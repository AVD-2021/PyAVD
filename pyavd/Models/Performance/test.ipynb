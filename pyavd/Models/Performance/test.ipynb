{
 "cells": [
  {
   "cell_type": "code",
   "execution_count": 1,
   "metadata": {},
   "outputs": [
    {
     "name": "stdout",
     "output_type": "stream",
     "text": [
      "Takeoff\n",
      "=======\n",
      "\n",
      "Constraints\n",
      "-----------\n",
      "  \"Takeoff Parameter\":\n",
      "    TOP = FL/k\n",
      "  \"Lift Coeffcient @ Takeoff Equation\":\n",
      "    CL_max_TO = 1.92\n",
      "  \"Thrust to Weight constraint\":\n",
      "    TW ≥ WS/(CL_max_TO·g·TOP/1.21)\n"
     ]
    }
   ],
   "source": [
    "from Segments import Takeoff\n",
    "\n",
    "c = Takeoff()\n",
    "print(c)\n",
    "\n"
   ]
  }
 ],
 "metadata": {
  "interpreter": {
   "hash": "c0fc9c7c1bb62fdc79ff189ccb2c2bfee35b493781111f864e72b574bd55d0d1"
  },
  "kernelspec": {
   "display_name": "Python 3.8.10 64-bit ('RocketPy': conda)",
   "language": "python",
   "name": "python3"
  },
  "language_info": {
   "codemirror_mode": {
    "name": "ipython",
    "version": 3
   },
   "file_extension": ".py",
   "mimetype": "text/x-python",
   "name": "python",
   "nbconvert_exporter": "python",
   "pygments_lexer": "ipython3",
   "version": "3.8.10"
  },
  "orig_nbformat": 4
 },
 "nbformat": 4,
 "nbformat_minor": 2
}
