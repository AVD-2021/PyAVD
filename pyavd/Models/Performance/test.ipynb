{
 "cells": [
  {
   "cell_type": "code",
   "execution_count": 1,
   "metadata": {},
   "outputs": [
    {
     "name": "stdout",
     "output_type": "stream",
     "text": [
      "Takeoff\n",
      "=======\n",
      "\n",
      "Constraints\n",
      "-----------\n",
      "  \"Takeoff Parameter\":\n",
      "    TOP = FL/k\n",
      "  \"Lift Coeffcient | Takeoff\":\n",
      "    CL_max_TO = 1.92\n",
      "  \"Thrust to Weight constraint\":\n",
      "    TW = WS/(CL_max_TO·g·TOP/1.21)\n",
      "Climb\n",
      "=====\n",
      "\n",
      "Constraints\n",
      "-----------\n",
      "  \"Initial CL|Climb\":\n",
      "    CL = 1.92\n",
      "  \"Drag Coefficient at Climb\":\n",
      "    CD ≥ Cd0_climb + CL²/(π·AR·e_climb)\n",
      "  \"Lift-Drag Ratio at Climb\":\n",
      "    LD = CL/CD\n",
      "  \"Thrust to Weight constraint\":\n",
      "    TW ≥ 1/LD + 0.001\n"
     ]
    }
   ],
   "source": [
    "from Segments import Takeoff, Climb\n",
    "\n",
    "t = Takeoff()\n",
    "c = Climb(0.04, 0.05, 0.1, goAround=False)\n",
    "\n",
    "\n",
    "print(t)\n",
    "print(c)\n",
    "\n"
   ]
  }
 ],
 "metadata": {
  "interpreter": {
   "hash": "c0fc9c7c1bb62fdc79ff189ccb2c2bfee35b493781111f864e72b574bd55d0d1"
  },
  "kernelspec": {
   "display_name": "Python 3.8.10 64-bit ('RocketPy': conda)",
   "language": "python",
   "name": "python3"
  },
  "language_info": {
   "codemirror_mode": {
    "name": "ipython",
    "version": 3
   },
   "file_extension": ".py",
   "mimetype": "text/x-python",
   "name": "python",
   "nbconvert_exporter": "python",
   "pygments_lexer": "ipython3",
   "version": "3.8.10"
  },
  "orig_nbformat": 4
 },
 "nbformat": 4,
 "nbformat_minor": 2
}
