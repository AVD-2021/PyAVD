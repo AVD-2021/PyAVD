{
 "cells": [
  {
   "cell_type": "code",
   "execution_count": 1,
   "metadata": {},
   "outputs": [
    {
     "name": "stdout",
     "output_type": "stream",
     "text": [
      "0.04\n",
      "0.05\n",
      "0.04\n",
      "0.05\n"
     ]
    },
    {
     "ename": "TypeError",
     "evalue": "unsupported operand type(s) for /: 'Variable' and 'Posynomial'",
     "output_type": "error",
     "traceback": [
      "\u001b[0;31m---------------------------------------------------------------------------\u001b[0m",
      "\u001b[0;31mTypeError\u001b[0m                                 Traceback (most recent call last)",
      "\u001b[0;32m/tmp/ipykernel_202385/1731755886.py\u001b[0m in \u001b[0;36m<module>\u001b[0;34m\u001b[0m\n\u001b[1;32m      1\u001b[0m \u001b[0;32mfrom\u001b[0m \u001b[0mSegments\u001b[0m \u001b[0;32mimport\u001b[0m \u001b[0mClimb\u001b[0m\u001b[0;34m\u001b[0m\u001b[0;34m\u001b[0m\u001b[0m\n\u001b[1;32m      2\u001b[0m \u001b[0;34m\u001b[0m\u001b[0m\n\u001b[0;32m----> 3\u001b[0;31m \u001b[0mc\u001b[0m \u001b[0;34m=\u001b[0m \u001b[0mClimb\u001b[0m\u001b[0;34m(\u001b[0m\u001b[0;36m0.04\u001b[0m\u001b[0;34m,\u001b[0m \u001b[0;36m0.05\u001b[0m\u001b[0;34m,\u001b[0m \u001b[0;36m0.1\u001b[0m\u001b[0;34m,\u001b[0m \u001b[0mgoAround\u001b[0m\u001b[0;34m=\u001b[0m\u001b[0;32mTrue\u001b[0m\u001b[0;34m)\u001b[0m\u001b[0;34m\u001b[0m\u001b[0;34m\u001b[0m\u001b[0m\n\u001b[0m\u001b[1;32m      4\u001b[0m \u001b[0mprint\u001b[0m\u001b[0;34m(\u001b[0m\u001b[0mc\u001b[0m\u001b[0;34m)\u001b[0m\u001b[0;34m\u001b[0m\u001b[0;34m\u001b[0m\u001b[0m\n\u001b[1;32m      5\u001b[0m \u001b[0;34m\u001b[0m\u001b[0m\n",
      "\u001b[0;32m~/anaconda3/envs/RocketPy/lib/python3.8/site-packages/gpkit/constraints/model.py\u001b[0m in \u001b[0;36m__init__\u001b[0;34m(self, cost, constraints, *args, **kwargs)\u001b[0m\n\u001b[1;32m     51\u001b[0m                 args = tuple(arg for arg in [cost, constraints]\n\u001b[1;32m     52\u001b[0m                              if arg is not None) + args\n\u001b[0;32m---> 53\u001b[0;31m                 \u001b[0mcs\u001b[0m \u001b[0;34m=\u001b[0m \u001b[0mself\u001b[0m\u001b[0;34m.\u001b[0m\u001b[0msetup\u001b[0m\u001b[0;34m(\u001b[0m\u001b[0;34m*\u001b[0m\u001b[0margs\u001b[0m\u001b[0;34m,\u001b[0m \u001b[0;34m**\u001b[0m\u001b[0mkwargs\u001b[0m\u001b[0;34m)\u001b[0m  \u001b[0;31m# pylint: disable=no-member\u001b[0m\u001b[0;34m\u001b[0m\u001b[0;34m\u001b[0m\u001b[0m\n\u001b[0m\u001b[1;32m     54\u001b[0m                 if (isinstance(cs, tuple) and len(cs) == 2\n\u001b[1;32m     55\u001b[0m                         and isinstance(cs[1], dict)):\n",
      "\u001b[0;32m~/Documents/GitHub/PyAVD/pyavd/Models/Performance/Segments.py\u001b[0m in \u001b[0;36msetup\u001b[0;34m(self, dCd0, de, climb_gradient, aircraft, goAround)\u001b[0m\n\u001b[1;32m     90\u001b[0m         \u001b[0;31m# Lift-Drag Ratio\u001b[0m\u001b[0;34m\u001b[0m\u001b[0;34m\u001b[0m\u001b[0;34m\u001b[0m\u001b[0m\n\u001b[1;32m     91\u001b[0m         constraints.update({\"Lift-Drag Ratio at Climb\" : [\n\u001b[0;32m---> 92\u001b[0;31m                     LD == CL / ((Cd0 + dCd0) + (CL ** 2)/(np.pi * AR * e_climb))                   ]})\n\u001b[0m\u001b[1;32m     93\u001b[0m                     \u001b[0;31m# LD == (CL ** 2)/(np.pi * AR * e_climb)   ]})\u001b[0m\u001b[0;34m\u001b[0m\u001b[0;34m\u001b[0m\u001b[0;34m\u001b[0m\u001b[0m\n\u001b[1;32m     94\u001b[0m \u001b[0;34m\u001b[0m\u001b[0m\n",
      "\u001b[0;31mTypeError\u001b[0m: unsupported operand type(s) for /: 'Variable' and 'Posynomial'"
     ]
    }
   ],
   "source": [
    "from Segments import Climb\n",
    "\n",
    "c = Climb(0.04, 0.05, 0.1, goAround=True)\n",
    "print(c)\n",
    "\n"
   ]
  }
 ],
 "metadata": {
  "interpreter": {
   "hash": "c0fc9c7c1bb62fdc79ff189ccb2c2bfee35b493781111f864e72b574bd55d0d1"
  },
  "kernelspec": {
   "display_name": "Python 3.8.10 64-bit ('RocketPy': conda)",
   "language": "python",
   "name": "python3"
  },
  "language_info": {
   "codemirror_mode": {
    "name": "ipython",
    "version": 3
   },
   "file_extension": ".py",
   "mimetype": "text/x-python",
   "name": "python",
   "nbconvert_exporter": "python",
   "pygments_lexer": "ipython3",
   "version": "3.8.10"
  },
  "orig_nbformat": 4
 },
 "nbformat": 4,
 "nbformat_minor": 2
}
