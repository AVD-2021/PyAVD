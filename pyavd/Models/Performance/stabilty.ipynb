{
 "cells": [
  {
   "cell_type": "code",
   "execution_count": 4,
   "metadata": {},
   "outputs": [
    {
     "name": "stdout",
     "output_type": "stream",
     "text": [
      "[(0.0176364269068358, -14.1604259707074)]\n"
     ]
    }
   ],
   "source": [
    "import sympy as sym\n",
    "import numpy as np \n",
    "\n",
    "i_h, alpha_infty = sym.symbols('i, a')\n",
    "eq1 = sym.Eq(2 + 12 * 16 / 24 * i_h*alpha_infty, 2 * 5 * 9.81 / (1.225 * 40**2 * 24))\n",
    "\n",
    "K_w = 1 / (np.pi * 7.5 * 0.85)\n",
    "K_h = 1 / (np.pi * 4 * 0.9)\n",
    "\n",
    "    # D = T\n",
    "    # Fast syntax check pls \n",
    "    # Also cant extract Thrust from Engine model, will exist in the Mission model somewhere in the engine performance model for a given flight regime\n",
    "eq2 = sym.Eq(0.05 + K_w * 2**2 + 12 * K_h * 12 / 24 * i_h*alpha_infty**2, 2 * 50000 / (1.225 * 40**2 * 24))\n",
    "\n",
    "result = sym.solve([eq1, eq2], (i_h, alpha_infty))      # This has symbols not the actual identifiers, is this right?\n",
    "\n",
    "print(result)"
   ]
  }
 ],
 "metadata": {
  "interpreter": {
   "hash": "c0fc9c7c1bb62fdc79ff189ccb2c2bfee35b493781111f864e72b574bd55d0d1"
  },
  "kernelspec": {
   "display_name": "Python 3.8.10 64-bit ('RocketPy': conda)",
   "language": "python",
   "name": "python3"
  },
  "language_info": {
   "codemirror_mode": {
    "name": "ipython",
    "version": 3
   },
   "file_extension": ".py",
   "mimetype": "text/x-python",
   "name": "python",
   "nbconvert_exporter": "python",
   "pygments_lexer": "ipython3",
   "version": "3.8.10"
  },
  "orig_nbformat": 4
 },
 "nbformat": 4,
 "nbformat_minor": 2
}
