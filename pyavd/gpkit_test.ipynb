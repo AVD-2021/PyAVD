{
 "cells": [
  {
   "cell_type": "markdown",
   "metadata": {},
   "source": [
    "# PyAVD - Quick Solver"
   ]
  },
  {
   "cell_type": "code",
   "execution_count": 1,
   "metadata": {},
   "outputs": [],
   "source": [
    "from gpkit import Model, ureg\n",
    "from gpkit.interactive.sankey import Sankey\n",
    "from gpkit.constraints.bounded import Bounded\n",
    "from Models import *\n",
    "import gpkit.interactive\n",
    "%matplotlib inline"
   ]
  },
  {
   "cell_type": "code",
   "execution_count": 2,
   "metadata": {},
   "outputs": [],
   "source": [
    "# with gpkit.SignomialsEnabled():\n",
    "\n",
    "#     AC = Aircraft()\n",
    "#     # print(AC)\n",
    "\n",
    "#     MISSION = Mission(AC)\n",
    "#     # print(MISSION)\n",
    "\n",
    "#     M = Model(AC.M_0 * AC.T0_W0, [Bounded(MISSION), Bounded(AC)])\n",
    "#     print(M)\n",
    "\n",
    "#     print(M.variables_byname('AR'))\n",
    "\n",
    "#     sol = M.localsolve(verbosity=1)\n",
    "#     print(sol.table())\n",
    "\n",
    "#     print(M.program.results)"
   ]
  },
  {
   "cell_type": "code",
   "execution_count": 3,
   "metadata": {},
   "outputs": [
    {
     "name": "stdout",
     "output_type": "stream",
     "text": [
      "LD: Mission.Cruise.LD, c: Aircraft.Starboard_Engine.sfc_cruise [1/hr], R: Mission.Cruise.R [km], V_inf: Mission.Cruise.V_inf [m/s]\n",
      "Mission.Cruise.R·Aircraft.Starboard_Engine.sfc_cruise/(Mission.Cruise.V_inf·Mission.Cruise.LD)\n",
      "LD: Mission.Cruise1.LD, c: Aircraft.Starboard_Engine.sfc_cruise [1/hr], R: Mission.Cruise1.R [km], V_inf: Mission.Cruise1.V_inf [m/s]\n",
      "Mission.Cruise1.R·Aircraft.Starboard_Engine.sfc_cruise/(Mission.Cruise1.V_inf·Mission.Cruise1.LD)\n"
     ]
    },
    {
     "ename": "TypeError",
     "evalue": "unsupported operand type(s) for -: 'int' and 'Posynomial'",
     "output_type": "error",
     "traceback": [
      "\u001b[0;31m---------------------------------------------------------------------------\u001b[0m",
      "\u001b[0;31mTypeError\u001b[0m                                 Traceback (most recent call last)",
      "\u001b[0;32m/tmp/ipykernel_160419/1457364732.py\u001b[0m in \u001b[0;36m<module>\u001b[0;34m\u001b[0m\n\u001b[1;32m      2\u001b[0m \u001b[0;31m# print(AC)\u001b[0m\u001b[0;34m\u001b[0m\u001b[0;34m\u001b[0m\u001b[0;34m\u001b[0m\u001b[0m\n\u001b[1;32m      3\u001b[0m \u001b[0;34m\u001b[0m\u001b[0m\n\u001b[0;32m----> 4\u001b[0;31m \u001b[0mMISSION\u001b[0m \u001b[0;34m=\u001b[0m \u001b[0mMission\u001b[0m\u001b[0;34m(\u001b[0m\u001b[0mAC\u001b[0m\u001b[0;34m)\u001b[0m\u001b[0;34m\u001b[0m\u001b[0;34m\u001b[0m\u001b[0m\n\u001b[0m\u001b[1;32m      5\u001b[0m \u001b[0;31m# print(MISSION)\u001b[0m\u001b[0;34m\u001b[0m\u001b[0;34m\u001b[0m\u001b[0;34m\u001b[0m\u001b[0m\n\u001b[1;32m      6\u001b[0m \u001b[0;34m\u001b[0m\u001b[0m\n",
      "\u001b[0;32m~/anaconda3/envs/RocketPy/lib/python3.8/site-packages/gpkit/constraints/model.py\u001b[0m in \u001b[0;36m__init__\u001b[0;34m(self, cost, constraints, *args, **kwargs)\u001b[0m\n\u001b[1;32m     51\u001b[0m                 args = tuple(arg for arg in [cost, constraints]\n\u001b[1;32m     52\u001b[0m                              if arg is not None) + args\n\u001b[0;32m---> 53\u001b[0;31m                 \u001b[0mcs\u001b[0m \u001b[0;34m=\u001b[0m \u001b[0mself\u001b[0m\u001b[0;34m.\u001b[0m\u001b[0msetup\u001b[0m\u001b[0;34m(\u001b[0m\u001b[0;34m*\u001b[0m\u001b[0margs\u001b[0m\u001b[0;34m,\u001b[0m \u001b[0;34m**\u001b[0m\u001b[0mkwargs\u001b[0m\u001b[0;34m)\u001b[0m  \u001b[0;31m# pylint: disable=no-member\u001b[0m\u001b[0;34m\u001b[0m\u001b[0;34m\u001b[0m\u001b[0m\n\u001b[0m\u001b[1;32m     54\u001b[0m                 if (isinstance(cs, tuple) and len(cs) == 2\n\u001b[1;32m     55\u001b[0m                         and isinstance(cs[1], dict)):\n",
      "\u001b[0;32m~/Documents/GitHub/PyAVD/pyavd/Models/Performance/Mission.py\u001b[0m in \u001b[0;36msetup\u001b[0;34m(self, aircraft)\u001b[0m\n\u001b[1;32m     34\u001b[0m         \u001b[0;31m# Aggregate fuel fraction\u001b[0m\u001b[0;34m\u001b[0m\u001b[0;34m\u001b[0m\u001b[0;34m\u001b[0m\u001b[0m\n\u001b[1;32m     35\u001b[0m         \u001b[0maggregate\u001b[0m \u001b[0;34m=\u001b[0m \u001b[0mreduce\u001b[0m\u001b[0;34m(\u001b[0m\u001b[0;32mlambda\u001b[0m \u001b[0mx\u001b[0m\u001b[0;34m,\u001b[0m \u001b[0my\u001b[0m\u001b[0;34m:\u001b[0m \u001b[0mx\u001b[0m \u001b[0;34m*\u001b[0m \u001b[0my\u001b[0m\u001b[0;34m,\u001b[0m \u001b[0;34m[\u001b[0m\u001b[0mfs\u001b[0m\u001b[0;34m.\u001b[0m\u001b[0mfuel_frac\u001b[0m \u001b[0;32mfor\u001b[0m \u001b[0mfs\u001b[0m \u001b[0;32min\u001b[0m \u001b[0mmission\u001b[0m\u001b[0;34m]\u001b[0m\u001b[0;34m)\u001b[0m\u001b[0;34m\u001b[0m\u001b[0;34m\u001b[0m\u001b[0m\n\u001b[0;32m---> 36\u001b[0;31m         \u001b[0mconstraints\u001b[0m \u001b[0;34m+=\u001b[0m \u001b[0;34m[\u001b[0m\u001b[0maircraft\u001b[0m\u001b[0;34m.\u001b[0m\u001b[0mM_fuel\u001b[0m\u001b[0;34m/\u001b[0m\u001b[0maircraft\u001b[0m\u001b[0;34m.\u001b[0m\u001b[0mM_0\u001b[0m \u001b[0;34m==\u001b[0m \u001b[0;36m1.01\u001b[0m \u001b[0;34m*\u001b[0m \u001b[0;34m(\u001b[0m\u001b[0;36m1\u001b[0m \u001b[0;34m-\u001b[0m \u001b[0maggregate\u001b[0m\u001b[0;34m)\u001b[0m\u001b[0;34m]\u001b[0m\u001b[0;34m\u001b[0m\u001b[0;34m\u001b[0m\u001b[0m\n\u001b[0m\u001b[1;32m     37\u001b[0m \u001b[0;34m\u001b[0m\u001b[0m\n\u001b[1;32m     38\u001b[0m         \u001b[0;32mreturn\u001b[0m \u001b[0mconstraints\u001b[0m\u001b[0;34m,\u001b[0m \u001b[0mmission\u001b[0m\u001b[0;34m\u001b[0m\u001b[0;34m\u001b[0m\u001b[0m\n",
      "\u001b[0;31mTypeError\u001b[0m: unsupported operand type(s) for -: 'int' and 'Posynomial'"
     ]
    }
   ],
   "source": [
    "\n",
    "AC = Aircraft()\n",
    "# print(AC)\n",
    "\n",
    "MISSION = Mission(AC)\n",
    "# print(MISSION)\n",
    "\n",
    "# M = Model(AC.M_0 * AC.T0_W0, [Bounded(MISSION), Bounded(AC)])\n",
    "M = Model(AC.M_0 * AC.T0_W0, [MISSION, AC])\n",
    "print(M)\n",
    "\n",
    "sol = M.solve(verbosity=1)\n",
    "print(sol.table())"
   ]
  },
  {
   "cell_type": "code",
   "execution_count": null,
   "metadata": {},
   "outputs": [],
   "source": [
    "# from gpkit.interactive.references import referencesplot\n",
    "# referencesplot(M, openimmediately=True)"
   ]
  },
  {
   "cell_type": "code",
   "execution_count": null,
   "metadata": {},
   "outputs": [],
   "source": [
    "# Sankey(sol, M)"
   ]
  }
 ],
 "metadata": {
  "interpreter": {
   "hash": "c0fc9c7c1bb62fdc79ff189ccb2c2bfee35b493781111f864e72b574bd55d0d1"
  },
  "kernelspec": {
   "display_name": "Python 3 (ipykernel)",
   "language": "python",
   "name": "python3"
  },
  "language_info": {
   "codemirror_mode": {
    "name": "ipython",
    "version": 3
   },
   "file_extension": ".py",
   "mimetype": "text/x-python",
   "name": "python",
   "nbconvert_exporter": "python",
   "pygments_lexer": "ipython3",
   "version": "3.9.2"
  }
 },
 "nbformat": 4,
 "nbformat_minor": 2
}
