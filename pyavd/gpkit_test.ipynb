{
 "cells": [
  {
   "cell_type": "markdown",
   "metadata": {},
   "source": [
    "# PyAVD - Quick Solver"
   ]
  },
  {
   "cell_type": "code",
   "execution_count": 1,
   "metadata": {},
   "outputs": [],
   "source": [
    "from gpkit import Model, ureg\n",
    "from gpkit.interactive.sankey import Sankey\n",
    "from gpkit.constraints.bounded import Bounded\n",
    "from gpkit.interactive.plotting import treemap\n",
    "from Models import *\n",
    "# %matplotlib inline"
   ]
  },
  {
   "cell_type": "code",
   "execution_count": 2,
   "metadata": {},
   "outputs": [],
   "source": [
    "# with gpkit.SignomialsEnabled():\n",
    "\n",
    "#     AC = Aircraft()\n",
    "#     # print(AC)\n",
    "\n",
    "#     MISSION = Mission(AC)\n",
    "#     # print(MISSION)\n",
    "\n",
    "#     M = Model(AC.M_0 * AC.T0_W0, [Bounded(MISSION), Bounded(AC)])\n",
    "#     print(M)\n",
    "\n",
    "#     print(M.variables_byname('AR'))\n",
    "\n",
    "#     sol = M.localsolve(verbosity=1)\n",
    "#     print(sol.table())\n",
    "\n",
    "#     print(M.program.results)"
   ]
  },
  {
   "cell_type": "code",
   "execution_count": 3,
   "metadata": {},
   "outputs": [
    {
     "name": "stderr",
     "output_type": "stream",
     "text": [
      "WARNING:root:Aircraft() object not found. Using default values.\n"
     ]
    },
    {
     "name": "stdout",
     "output_type": "stream",
     "text": [
      "State: alt=10 foot, vel=10 meter / second, climb_gradient=0.1\n",
      "rho:Mission.Segment.rho [kg/m³], U:Mission.Segment.U [m/s], c:Aircraft.Wing.c [m], mu:Mission.Segment.mu [kg/m/s], Re:Mission.Segment.rho·Mission.Segment.U·Aircraft.Wing.c/Mission.Segment.mu\n",
      "State: alt=10 foot, vel=10 meter / second, climb_gradient=0.1\n",
      "rho:Mission.Segment1.rho [kg/m³], U:Mission.Segment1.U [m/s], c:Aircraft.Wing.c [m], mu:Mission.Segment1.mu [kg/m/s], Re:Mission.Segment1.rho·Mission.Segment1.U·Aircraft.Wing.c/Mission.Segment1.mu\n"
     ]
    },
    {
     "name": "stderr",
     "output_type": "stream",
     "text": [
      "WARNING:root:Aircraft() object not found. Using default values.\n",
      "WARNING:root:Aircraft() object not found. Using default values.\n",
      "WARNING:root:Aircraft() object not found. Using default values.\n"
     ]
    },
    {
     "name": "stdout",
     "output_type": "stream",
     "text": [
      "State: alt=40000 foot, vel=[221.30212013180363] meter / second, climb_gradient=0.1\n",
      "rho:Mission.Segment2.rho [kg/m³], U:Mission.Segment2.U [m/s], c:Aircraft.Wing.c [m], mu:Mission.Segment2.mu [kg/m/s], Re:Mission.Segment2.rho·Mission.Segment2.U·Aircraft.Wing.c/Mission.Segment2.mu\n",
      "State: alt=10 foot, vel=10 meter / second, climb_gradient=0.1\n",
      "rho:Mission.Segment3.rho [kg/m³], U:Mission.Segment3.U [m/s], c:Aircraft.Wing.c [m], mu:Mission.Segment3.mu [kg/m/s], Re:Mission.Segment3.rho·Mission.Segment3.U·Aircraft.Wing.c/Mission.Segment3.mu\n",
      "State: alt=26000 foot, vel=[123.3692088673747] meter / second, climb_gradient=0.1\n",
      "rho:Mission.Segment4.rho [kg/m³], U:Mission.Segment4.U [m/s], c:Aircraft.Wing.c [m], mu:Mission.Segment4.mu [kg/m/s], Re:Mission.Segment4.rho·Mission.Segment4.U·Aircraft.Wing.c/Mission.Segment4.mu\n",
      "State: alt=10 foot, vel=10 meter / second, climb_gradient=0.1\n",
      "rho:Mission.Segment5.rho [kg/m³], U:Mission.Segment5.U [m/s], c:Aircraft.Wing.c [m], mu:Mission.Segment5.mu [kg/m/s], Re:Mission.Segment5.rho·Mission.Segment5.U·Aircraft.Wing.c/Mission.Segment5.mu\n",
      "\n",
      "Cost Function\n",
      "-------------\n",
      " M_0\n",
      "\n",
      "Constraints\n",
      "-----------\n",
      " Mission\n",
      "  \"Top-level constraints\":\n",
      "    M[0] = M_0\n",
      "    M[1] ≤ M[0]\n",
      "    M[2] ≤ M[1]\n",
      "    M[3] ≤ M[2]\n",
      "    M[4] ≤ M[3]\n",
      "    M[5] ≤ M[4]\n",
      "    M[6] ≤ M[5]\n",
      "    M[6] ≥ M_dry·1.06\n",
      "  Segment\n",
      "   \"Segment\":\n",
      "     Takeoff\n",
      "      \"Takeoff Parameter\":\n",
      "        TOP = Mission.Segment.Takeoff.FL/Mission.Segment.Takeoff.k\n",
      "      \"Lift Coeffcient | Takeoff\":\n",
      "        CL_max_TO = 1.92\n",
      "      \"Thrust to Weight constraint\":\n",
      "        T0_W0 ≥ W0_S/(CL_max_TO·Mission.Segment.Takeoff.g·TOP/1.21)\n",
      "      \"Fuel Fraction | Takeoff\":\n",
      "        M[1]/M[0] = 0.97\n",
      "      \"Boundaries\":\n",
      "        \"Minimum Wing Loading\":\n",
      "          W0_S ≥ 0.1\n",
      "        \"Maximum Thrust to Weight\":\n",
      "          T0_W0 ≤ 1\n",
      "\n",
      "   AircraftPerformance\n",
      "    \"Performance\":\n",
      "    \"constraints\":\n",
      "      \"Longitudinal CG\":\n",
      "        Mission.Segment.AircraftPerformance.x_cg ≥ (Aircraft.Engine.M·Aircraft.Engine.x_cg + Aircraft.Fuselage.M·Aircraft.Fuselage.x_cg + Aircraft.H_Tail.M·Aircraft.H_Tail.x_cg + Aircraft.Payload.M·Aircraft.Payload.x_cg + Aircraft.UC.M·Aircraft.UC.x_cg + Aircraft.V_Tail.M·Aircraft.V_Tail.x_cg + Aircraft.Wing.M·Aircraft.Wing.x_cg)/M_dry\n",
      "      \"Vertical CG\":\n",
      "        Mission.Segment.AircraftPerformance.z_cg ≥ (Aircraft.Engine.M·Aircraft.Engine.z_cg + Aircraft.Fuselage.M·Aircraft.Fuselage.z_cg + Aircraft.H_Tail.M·Aircraft.H_Tail.z_cg + Aircraft.Payload.M·Aircraft.Payload.z_cg + Aircraft.UC.M·Aircraft.UC.z_cg + Aircraft.V_Tail.M·Aircraft.V_Tail.z_cg + Aircraft.Wing.M·Aircraft.Wing.z_cg)/M_dry\n",
      "\n",
      "  Segment1\n",
      "   \"Segment\":\n",
      "     Climb\n",
      "      \"Initial CL|Climb\":\n",
      "        Mission.Segment1.Climb.CL = 1.92\n",
      "      \"Induced Drag Coefficient | Climb\":\n",
      "        Mission.Segment1.Climb.CDi_climb = Mission.Segment1.Climb.CL²/(π·Mission.Segment1.Climb.AR·Mission.Segment1.Climb.e_climb)\n",
      "      \"Thrust to Weight constraint\":\n",
      "        Mission.Segment1.Climb.TW ≥ (Mission.Segment1.Climb.Cd0_climb + Mission.Segment1.Climb.CDi_climb)/Mission.Segment1.Climb.CL + 0.001\n",
      "      \"Fuel Fraction | Climb\":\n",
      "        M[2]/M[1] = 0.985\n",
      "      \"Boundaries\":\n",
      "        Mission.Segment1.Climb.Cd0_climb ≥ 1e-06\n",
      "\n",
      "   AircraftPerformance\n",
      "    \"Performance\":\n",
      "    \"constraints\":\n",
      "      \"Longitudinal CG\":\n",
      "        Mission.Segment1.AircraftPerformance.x_cg ≥ (Aircraft.Engine.M·Aircraft.Engine.x_cg + Aircraft.Fuselage.M·Aircraft.Fuselage.x_cg + Aircraft.H_Tail.M·Aircraft.H_Tail.x_cg + Aircraft.Payload.M·Aircraft.Payload.x_cg + Aircraft.UC.M·Aircraft.UC.x_cg + Aircraft.V_Tail.M·Aircraft.V_Tail.x_cg + Aircraft.Wing.M·Aircraft.Wing.x_cg)/M_dry\n",
      "      \"Vertical CG\":\n",
      "        Mission.Segment1.AircraftPerformance.z_cg ≥ (Aircraft.Engine.M·Aircraft.Engine.z_cg + Aircraft.Fuselage.M·Aircraft.Fuselage.z_cg + Aircraft.H_Tail.M·Aircraft.H_Tail.z_cg + Aircraft.Payload.M·Aircraft.Payload.z_cg + Aircraft.UC.M·Aircraft.UC.z_cg + Aircraft.V_Tail.M·Aircraft.V_Tail.z_cg + Aircraft.Wing.M·Aircraft.Wing.z_cg)/M_dry\n",
      "\n",
      "  Segment2\n",
      "   \"Segment\":\n",
      "     Cruise\n",
      "      \"Thrust Lapse Troposphere\":\n",
      "        Mission.Segment2.Cruise.beta = Mission.Segment2.Cruise.sigma^0.7\n",
      "      \"Thrust to Weight Constraint | Cruise\":\n",
      "        Mission.Segment2.Cruise.TW ≥ 0.955/Mission.Segment2.Cruise.beta·(1/Mission.Segment2.Cruise.V_inf·Mission.Segment2.Cruise.climb_rate + 0.5·Mission.Segment2.Cruise.rho·Mission.Segment2.Cruise.V_inf²·Mission.Segment2.Cruise.Cd0/(0.955·Mission.Segment2.Cruise.WS) + 0.955·Mission.Segment2.Cruise.WS/(0.5·Mission.Segment2.Cruise.rho·Mission.Segment2.Cruise.V_inf²·π·Mission.Segment2.Cruise.AR·Mission.Segment2.Cruise.e))\n",
      "      \"Optimum LD\":\n",
      "        Mission.Segment2.Cruise.LD = 0.866·LD_max\n",
      "      \"Fuel Fraction | Cruise\":\n",
      "        M[2]/M[3] ≥ 1 + (Mission.Segment2.Cruise.R·sfc_cruise/(Mission.Segment2.Cruise.V_inf·Mission.Segment2.Cruise.LD))^1 + (Mission.Segment2.Cruise.R·sfc_cruise/(Mission.Segment2.Cruise.V_inf·Mission.Segment2.Cruise.LD))²/2 + (Mission.Segment2.Cruise.R·sfc_cruise/(Mission.Segment2.Cruise.V_inf·Mission.Segment2.Cruise.LD))³/6 + (Mission.Segment2.Cruise.R·sfc_cruise/(Mission.Segment2.Cruise.V_inf·Mission.Segment2.Cruise.LD))⁴/24 + (Mission.Segment2.Cruise.R·sfc_cruise/(Mission.Segment2.Cruise.V_inf·Mission.Segment2.Cruise.LD))⁵/120 + (Mission.Segment2.Cruise.R·sfc_cruise/(Mission.Segment2.Cruise.V_inf·Mission.Segment2.Cruise.LD))⁶/720 + (Mission.Segment2.Cruise.R·sfc_cruise/(Mission.Segment2.Cruise.V_inf·Mission.Segment2.Cruise.LD))⁷/5.04e+03 + (Mission.Segment2.Cruise.R·sfc_cruise/(Mission.Segment2.Cruise.V_inf·Mission.Segment2.Cruise.LD))⁸/4.03e+04 + (Mission.Segment2.Cruise.R·sfc_cruise/(Mission.Segment2.Cruise.V_inf·Mission.Segment2.Cruise.LD))⁹/3.63e+05\n",
      "\n",
      "   AircraftPerformance\n",
      "    \"Performance\":\n",
      "    \"constraints\":\n",
      "      \"Longitudinal CG\":\n",
      "        Mission.Segment2.AircraftPerformance.x_cg ≥ (Aircraft.Engine.M·Aircraft.Engine.x_cg + Aircraft.Fuselage.M·Aircraft.Fuselage.x_cg + Aircraft.H_Tail.M·Aircraft.H_Tail.x_cg + Aircraft.Payload.M·Aircraft.Payload.x_cg + Aircraft.UC.M·Aircraft.UC.x_cg + Aircraft.V_Tail.M·Aircraft.V_Tail.x_cg + Aircraft.Wing.M·Aircraft.Wing.x_cg)/M_dry\n",
      "      \"Vertical CG\":\n",
      "        Mission.Segment2.AircraftPerformance.z_cg ≥ (Aircraft.Engine.M·Aircraft.Engine.z_cg + Aircraft.Fuselage.M·Aircraft.Fuselage.z_cg + Aircraft.H_Tail.M·Aircraft.H_Tail.z_cg + Aircraft.Payload.M·Aircraft.Payload.z_cg + Aircraft.UC.M·Aircraft.UC.z_cg + Aircraft.V_Tail.M·Aircraft.V_Tail.z_cg + Aircraft.Wing.M·Aircraft.Wing.z_cg)/M_dry\n",
      "\n",
      "  Segment3\n",
      "   \"Segment\":\n",
      "     Climb_GoAround\n",
      "      \"Go-around CL|CLimb\":\n",
      "        Mission.Segment3.Climb_GoAround.CL = 2.1\n",
      "      \"Induced Drag Coefficient | Climb\":\n",
      "        Mission.Segment3.Climb_GoAround.CDi_climb = Mission.Segment3.Climb_GoAround.CL²/(π·Mission.Segment3.Climb_GoAround.AR·Mission.Segment3.Climb_GoAround.e_climb)\n",
      "      \"Thrust to Weight constraint\":\n",
      "        Mission.Segment3.Climb_GoAround.TW ≥ (Mission.Segment3.Climb_GoAround.Cd0_climb + Mission.Segment3.Climb_GoAround.CDi_climb)/Mission.Segment3.Climb_GoAround.CL + 0.001\n",
      "      \"Fuel Fraction | Climb\":\n",
      "        M[4]/M[3] = 0.985\n",
      "      \"Boundaries\":\n",
      "        Mission.Segment3.Climb_GoAround.Cd0_climb ≥ 1e-06\n",
      "\n",
      "   AircraftPerformance\n",
      "    \"Performance\":\n",
      "    \"constraints\":\n",
      "      \"Longitudinal CG\":\n",
      "        Mission.Segment3.AircraftPerformance.x_cg ≥ (Aircraft.Engine.M·Aircraft.Engine.x_cg + Aircraft.Fuselage.M·Aircraft.Fuselage.x_cg + Aircraft.H_Tail.M·Aircraft.H_Tail.x_cg + Aircraft.Payload.M·Aircraft.Payload.x_cg + Aircraft.UC.M·Aircraft.UC.x_cg + Aircraft.V_Tail.M·Aircraft.V_Tail.x_cg + Aircraft.Wing.M·Aircraft.Wing.x_cg)/M_dry\n",
      "      \"Vertical CG\":\n",
      "        Mission.Segment3.AircraftPerformance.z_cg ≥ (Aircraft.Engine.M·Aircraft.Engine.z_cg + Aircraft.Fuselage.M·Aircraft.Fuselage.z_cg + Aircraft.H_Tail.M·Aircraft.H_Tail.z_cg + Aircraft.Payload.M·Aircraft.Payload.z_cg + Aircraft.UC.M·Aircraft.UC.z_cg + Aircraft.V_Tail.M·Aircraft.V_Tail.z_cg + Aircraft.Wing.M·Aircraft.Wing.z_cg)/M_dry\n",
      "\n",
      "  Segment4\n",
      "   \"Segment\":\n",
      "     Cruise\n",
      "      \"Thrust Lapse Troposphere\":\n",
      "        Mission.Segment4.Cruise.beta = Mission.Segment4.Cruise.sigma^0.7\n",
      "      \"Thrust to Weight Constraint | Cruise\":\n",
      "        Mission.Segment4.Cruise.TW ≥ 0.955/Mission.Segment4.Cruise.beta·(1/Mission.Segment4.Cruise.V_inf·Mission.Segment4.Cruise.climb_rate + 0.5·Mission.Segment4.Cruise.rho·Mission.Segment4.Cruise.V_inf²·Mission.Segment4.Cruise.Cd0/(0.955·Mission.Segment4.Cruise.WS) + 0.955·Mission.Segment4.Cruise.WS/(0.5·Mission.Segment4.Cruise.rho·Mission.Segment4.Cruise.V_inf²·π·Mission.Segment4.Cruise.AR·Mission.Segment4.Cruise.e))\n",
      "      \"Optimum LD\":\n",
      "        Mission.Segment4.Cruise.LD = 0.866·LD_max\n",
      "      \"Fuel Fraction | Cruise\":\n",
      "        M[4]/M[5] ≥ 1 + (Mission.Segment4.Cruise.R·sfc_cruise/(Mission.Segment4.Cruise.V_inf·Mission.Segment4.Cruise.LD))^1 + (Mission.Segment4.Cruise.R·sfc_cruise/(Mission.Segment4.Cruise.V_inf·Mission.Segment4.Cruise.LD))²/2 + (Mission.Segment4.Cruise.R·sfc_cruise/(Mission.Segment4.Cruise.V_inf·Mission.Segment4.Cruise.LD))³/6 + (Mission.Segment4.Cruise.R·sfc_cruise/(Mission.Segment4.Cruise.V_inf·Mission.Segment4.Cruise.LD))⁴/24 + (Mission.Segment4.Cruise.R·sfc_cruise/(Mission.Segment4.Cruise.V_inf·Mission.Segment4.Cruise.LD))⁵/120 + (Mission.Segment4.Cruise.R·sfc_cruise/(Mission.Segment4.Cruise.V_inf·Mission.Segment4.Cruise.LD))⁶/720 + (Mission.Segment4.Cruise.R·sfc_cruise/(Mission.Segment4.Cruise.V_inf·Mission.Segment4.Cruise.LD))⁷/5.04e+03 + (Mission.Segment4.Cruise.R·sfc_cruise/(Mission.Segment4.Cruise.V_inf·Mission.Segment4.Cruise.LD))⁸/4.03e+04 + (Mission.Segment4.Cruise.R·sfc_cruise/(Mission.Segment4.Cruise.V_inf·Mission.Segment4.Cruise.LD))⁹/3.63e+05\n",
      "\n",
      "   AircraftPerformance\n",
      "    \"Performance\":\n",
      "    \"constraints\":\n",
      "      \"Longitudinal CG\":\n",
      "        Mission.Segment4.AircraftPerformance.x_cg ≥ (Aircraft.Engine.M·Aircraft.Engine.x_cg + Aircraft.Fuselage.M·Aircraft.Fuselage.x_cg + Aircraft.H_Tail.M·Aircraft.H_Tail.x_cg + Aircraft.Payload.M·Aircraft.Payload.x_cg + Aircraft.UC.M·Aircraft.UC.x_cg + Aircraft.V_Tail.M·Aircraft.V_Tail.x_cg + Aircraft.Wing.M·Aircraft.Wing.x_cg)/M_dry\n",
      "      \"Vertical CG\":\n",
      "        Mission.Segment4.AircraftPerformance.z_cg ≥ (Aircraft.Engine.M·Aircraft.Engine.z_cg + Aircraft.Fuselage.M·Aircraft.Fuselage.z_cg + Aircraft.H_Tail.M·Aircraft.H_Tail.z_cg + Aircraft.Payload.M·Aircraft.Payload.z_cg + Aircraft.UC.M·Aircraft.UC.z_cg + Aircraft.V_Tail.M·Aircraft.V_Tail.z_cg + Aircraft.Wing.M·Aircraft.Wing.z_cg)/M_dry\n",
      "\n",
      "  Segment5\n",
      "   \"Segment\":\n",
      "     Landing\n",
      "      \"Target Stall Speed\":\n",
      "        V_stall = (Mission.Segment5.Landing.FL/Mission.Segment5.Landing.k)^0.5\n",
      "      \"Max Wing Loading\":\n",
      "        W0_S ≤ 0.5·Mission.Segment5.rho0·V_stall²·2.1\n",
      "      \"Fuel Fraction | Landing\":\n",
      "        M[6]/M[5] = 0.995\n",
      "\n",
      "   AircraftPerformance\n",
      "    \"Performance\":\n",
      "    \"constraints\":\n",
      "      \"Longitudinal CG\":\n",
      "        Mission.Segment5.AircraftPerformance.x_cg ≥ (Aircraft.Engine.M·Aircraft.Engine.x_cg + Aircraft.Fuselage.M·Aircraft.Fuselage.x_cg + Aircraft.H_Tail.M·Aircraft.H_Tail.x_cg + Aircraft.Payload.M·Aircraft.Payload.x_cg + Aircraft.UC.M·Aircraft.UC.x_cg + Aircraft.V_Tail.M·Aircraft.V_Tail.x_cg + Aircraft.Wing.M·Aircraft.Wing.x_cg)/M_dry\n",
      "      \"Vertical CG\":\n",
      "        Mission.Segment5.AircraftPerformance.z_cg ≥ (Aircraft.Engine.M·Aircraft.Engine.z_cg + Aircraft.Fuselage.M·Aircraft.Fuselage.z_cg + Aircraft.H_Tail.M·Aircraft.H_Tail.z_cg + Aircraft.Payload.M·Aircraft.Payload.z_cg + Aircraft.UC.M·Aircraft.UC.z_cg + Aircraft.V_Tail.M·Aircraft.V_Tail.z_cg + Aircraft.Wing.M·Aircraft.Wing.z_cg)/M_dry\n",
      "\n",
      " Aircraft\n",
      "  \"Dry Mass\":\n",
      "    M_dry ≥ Aircraft.Engine.M + Aircraft.Fuselage.M + Aircraft.H_Tail.M + Aircraft.Payload.M + Aircraft.UC.M + Aircraft.V_Tail.M + Aircraft.Wing.M\n",
      "  \"Total Mass\":\n",
      "    M_0 ≥ M_fuel + M_dry\n",
      "  \"Boundary Constraints\":\n",
      "    \"Minimum Fuel Mass\":\n",
      "      M_fuel ≥ 10\n",
      "      M_fuel ≤ 1e+05\n",
      "  Payload\n",
      "   \"Passengers + Crew Mass\":\n",
      "     M_pax = m_pax·6\n",
      "   \"Luggage Mass\":\n",
      "     M_luggage = m_luggage·4\n",
      "   \"Total Payload\":\n",
      "     Aircraft.Payload.M ≥ M_pax + M_luggage\n",
      "\n",
      "  Fuselage\n",
      "   Aircraft.Fuselage.M ≥ Aircraft.Fuselage.Cabin.M\n",
      "   Cabin\n",
      "    (no constraints)\n",
      "\n",
      "  Wing\n",
      "   (no constraints)\n",
      "\n",
      "  Engine\n",
      "   (no constraints)\n",
      "\n",
      "  H_Tail\n",
      "   (no constraints)\n",
      "\n",
      "  V_Tail\n",
      "   (no constraints)\n",
      "\n",
      "  UC\n",
      "   (no constraints)\n"
     ]
    }
   ],
   "source": [
    "\n",
    "AC = Aircraft()\n",
    "# print(AC)\n",
    "\n",
    "MISSION = Mission(AC)\n",
    "# print(MISSION)\n",
    "\n",
    "# M = Model(AC.M_fuel, [Bounded(MISSION), Bounded(AC)])\n",
    "# M = Model(AC.T0_W0 * AC.M_0, [MISSION, AC])\n",
    "M = Model(AC.M_0, [MISSION, AC])\n",
    "print(M)\n"
   ]
  },
  {
   "cell_type": "code",
   "execution_count": 4,
   "metadata": {},
   "outputs": [
    {
     "data": {
      "application/vnd.plotly.v1+json": {
       "config": {
        "plotlyServerURL": "https://plot.ly"
       },
       "data": [
        {
         "ids": [
          "Mission.Segment4",
          "Aircraft.UC",
          "Mission.Segment5",
          "Aircraft.V_Tail",
          "Mission.Segment4.Cruise",
          "Aircraft",
          "Mission.Segment2.Cruise",
          "Mission.Segment4.AircraftPerformance",
          "Mission.Segment.AircraftPerformance",
          "Aircraft.Fuselage",
          "Mission.Segment2",
          "Aircraft.Engine",
          "Aircraft.Payload",
          "Mission.Segment",
          "Mission",
          "Mission.Segment3.Climb_GoAround",
          "Mission.Segment3",
          "Mission.Segment5.AircraftPerformance",
          "Mission.Segment1.Climb",
          "Aircraft.H_Tail",
          "Mission.Segment3.AircraftPerformance",
          "Mission.Segment1",
          "Aircraft.Wing",
          "Mission.Segment2.AircraftPerformance",
          "Mission.Segment1.AircraftPerformance",
          "Mission.Segment5.Landing",
          "Mission.Segment.Takeoff",
          "Aircraft.Fuselage.Cabin",
          "Model",
          ""
         ],
         "labels": [
          "Segment4",
          "UC",
          "Segment5",
          "V_Tail",
          "Cruise",
          "Aircraft",
          "Cruise",
          "AircraftPerformance",
          "AircraftPerformance",
          "Fuselage",
          "Segment2",
          "Engine",
          "Payload",
          "Segment",
          "Mission",
          "Climb_GoAround",
          "Segment3",
          "AircraftPerformance",
          "Climb",
          "H_Tail",
          "AircraftPerformance",
          "Segment1",
          "Wing",
          "AircraftPerformance",
          "AircraftPerformance",
          "Landing",
          "Takeoff",
          "Cabin",
          "Model",
          ""
         ],
         "parents": [
          "Mission",
          "Aircraft",
          "Mission",
          "Aircraft",
          "Mission.Segment4",
          "Model",
          "Mission.Segment2",
          "Mission.Segment4",
          "Mission.Segment",
          "Aircraft",
          "Mission",
          "Aircraft",
          "Aircraft",
          "Mission",
          "Model",
          "Mission.Segment3",
          "Mission",
          "Mission.Segment5",
          "Mission.Segment1",
          "Aircraft",
          "Mission.Segment3",
          "Mission",
          "Aircraft",
          "Mission.Segment2",
          "Mission.Segment1",
          "Mission.Segment5",
          "Mission.Segment",
          "Aircraft.Fuselage",
          "",
          "Model"
         ],
         "type": "treemap"
        }
       ],
       "layout": {
        "template": {
         "data": {
          "bar": [
           {
            "error_x": {
             "color": "#2a3f5f"
            },
            "error_y": {
             "color": "#2a3f5f"
            },
            "marker": {
             "line": {
              "color": "#E5ECF6",
              "width": 0.5
             },
             "pattern": {
              "fillmode": "overlay",
              "size": 10,
              "solidity": 0.2
             }
            },
            "type": "bar"
           }
          ],
          "barpolar": [
           {
            "marker": {
             "line": {
              "color": "#E5ECF6",
              "width": 0.5
             },
             "pattern": {
              "fillmode": "overlay",
              "size": 10,
              "solidity": 0.2
             }
            },
            "type": "barpolar"
           }
          ],
          "carpet": [
           {
            "aaxis": {
             "endlinecolor": "#2a3f5f",
             "gridcolor": "white",
             "linecolor": "white",
             "minorgridcolor": "white",
             "startlinecolor": "#2a3f5f"
            },
            "baxis": {
             "endlinecolor": "#2a3f5f",
             "gridcolor": "white",
             "linecolor": "white",
             "minorgridcolor": "white",
             "startlinecolor": "#2a3f5f"
            },
            "type": "carpet"
           }
          ],
          "choropleth": [
           {
            "colorbar": {
             "outlinewidth": 0,
             "ticks": ""
            },
            "type": "choropleth"
           }
          ],
          "contour": [
           {
            "colorbar": {
             "outlinewidth": 0,
             "ticks": ""
            },
            "colorscale": [
             [
              0,
              "#0d0887"
             ],
             [
              0.1111111111111111,
              "#46039f"
             ],
             [
              0.2222222222222222,
              "#7201a8"
             ],
             [
              0.3333333333333333,
              "#9c179e"
             ],
             [
              0.4444444444444444,
              "#bd3786"
             ],
             [
              0.5555555555555556,
              "#d8576b"
             ],
             [
              0.6666666666666666,
              "#ed7953"
             ],
             [
              0.7777777777777778,
              "#fb9f3a"
             ],
             [
              0.8888888888888888,
              "#fdca26"
             ],
             [
              1,
              "#f0f921"
             ]
            ],
            "type": "contour"
           }
          ],
          "contourcarpet": [
           {
            "colorbar": {
             "outlinewidth": 0,
             "ticks": ""
            },
            "type": "contourcarpet"
           }
          ],
          "heatmap": [
           {
            "colorbar": {
             "outlinewidth": 0,
             "ticks": ""
            },
            "colorscale": [
             [
              0,
              "#0d0887"
             ],
             [
              0.1111111111111111,
              "#46039f"
             ],
             [
              0.2222222222222222,
              "#7201a8"
             ],
             [
              0.3333333333333333,
              "#9c179e"
             ],
             [
              0.4444444444444444,
              "#bd3786"
             ],
             [
              0.5555555555555556,
              "#d8576b"
             ],
             [
              0.6666666666666666,
              "#ed7953"
             ],
             [
              0.7777777777777778,
              "#fb9f3a"
             ],
             [
              0.8888888888888888,
              "#fdca26"
             ],
             [
              1,
              "#f0f921"
             ]
            ],
            "type": "heatmap"
           }
          ],
          "heatmapgl": [
           {
            "colorbar": {
             "outlinewidth": 0,
             "ticks": ""
            },
            "colorscale": [
             [
              0,
              "#0d0887"
             ],
             [
              0.1111111111111111,
              "#46039f"
             ],
             [
              0.2222222222222222,
              "#7201a8"
             ],
             [
              0.3333333333333333,
              "#9c179e"
             ],
             [
              0.4444444444444444,
              "#bd3786"
             ],
             [
              0.5555555555555556,
              "#d8576b"
             ],
             [
              0.6666666666666666,
              "#ed7953"
             ],
             [
              0.7777777777777778,
              "#fb9f3a"
             ],
             [
              0.8888888888888888,
              "#fdca26"
             ],
             [
              1,
              "#f0f921"
             ]
            ],
            "type": "heatmapgl"
           }
          ],
          "histogram": [
           {
            "marker": {
             "pattern": {
              "fillmode": "overlay",
              "size": 10,
              "solidity": 0.2
             }
            },
            "type": "histogram"
           }
          ],
          "histogram2d": [
           {
            "colorbar": {
             "outlinewidth": 0,
             "ticks": ""
            },
            "colorscale": [
             [
              0,
              "#0d0887"
             ],
             [
              0.1111111111111111,
              "#46039f"
             ],
             [
              0.2222222222222222,
              "#7201a8"
             ],
             [
              0.3333333333333333,
              "#9c179e"
             ],
             [
              0.4444444444444444,
              "#bd3786"
             ],
             [
              0.5555555555555556,
              "#d8576b"
             ],
             [
              0.6666666666666666,
              "#ed7953"
             ],
             [
              0.7777777777777778,
              "#fb9f3a"
             ],
             [
              0.8888888888888888,
              "#fdca26"
             ],
             [
              1,
              "#f0f921"
             ]
            ],
            "type": "histogram2d"
           }
          ],
          "histogram2dcontour": [
           {
            "colorbar": {
             "outlinewidth": 0,
             "ticks": ""
            },
            "colorscale": [
             [
              0,
              "#0d0887"
             ],
             [
              0.1111111111111111,
              "#46039f"
             ],
             [
              0.2222222222222222,
              "#7201a8"
             ],
             [
              0.3333333333333333,
              "#9c179e"
             ],
             [
              0.4444444444444444,
              "#bd3786"
             ],
             [
              0.5555555555555556,
              "#d8576b"
             ],
             [
              0.6666666666666666,
              "#ed7953"
             ],
             [
              0.7777777777777778,
              "#fb9f3a"
             ],
             [
              0.8888888888888888,
              "#fdca26"
             ],
             [
              1,
              "#f0f921"
             ]
            ],
            "type": "histogram2dcontour"
           }
          ],
          "mesh3d": [
           {
            "colorbar": {
             "outlinewidth": 0,
             "ticks": ""
            },
            "type": "mesh3d"
           }
          ],
          "parcoords": [
           {
            "line": {
             "colorbar": {
              "outlinewidth": 0,
              "ticks": ""
             }
            },
            "type": "parcoords"
           }
          ],
          "pie": [
           {
            "automargin": true,
            "type": "pie"
           }
          ],
          "scatter": [
           {
            "marker": {
             "colorbar": {
              "outlinewidth": 0,
              "ticks": ""
             }
            },
            "type": "scatter"
           }
          ],
          "scatter3d": [
           {
            "line": {
             "colorbar": {
              "outlinewidth": 0,
              "ticks": ""
             }
            },
            "marker": {
             "colorbar": {
              "outlinewidth": 0,
              "ticks": ""
             }
            },
            "type": "scatter3d"
           }
          ],
          "scattercarpet": [
           {
            "marker": {
             "colorbar": {
              "outlinewidth": 0,
              "ticks": ""
             }
            },
            "type": "scattercarpet"
           }
          ],
          "scattergeo": [
           {
            "marker": {
             "colorbar": {
              "outlinewidth": 0,
              "ticks": ""
             }
            },
            "type": "scattergeo"
           }
          ],
          "scattergl": [
           {
            "marker": {
             "colorbar": {
              "outlinewidth": 0,
              "ticks": ""
             }
            },
            "type": "scattergl"
           }
          ],
          "scattermapbox": [
           {
            "marker": {
             "colorbar": {
              "outlinewidth": 0,
              "ticks": ""
             }
            },
            "type": "scattermapbox"
           }
          ],
          "scatterpolar": [
           {
            "marker": {
             "colorbar": {
              "outlinewidth": 0,
              "ticks": ""
             }
            },
            "type": "scatterpolar"
           }
          ],
          "scatterpolargl": [
           {
            "marker": {
             "colorbar": {
              "outlinewidth": 0,
              "ticks": ""
             }
            },
            "type": "scatterpolargl"
           }
          ],
          "scatterternary": [
           {
            "marker": {
             "colorbar": {
              "outlinewidth": 0,
              "ticks": ""
             }
            },
            "type": "scatterternary"
           }
          ],
          "surface": [
           {
            "colorbar": {
             "outlinewidth": 0,
             "ticks": ""
            },
            "colorscale": [
             [
              0,
              "#0d0887"
             ],
             [
              0.1111111111111111,
              "#46039f"
             ],
             [
              0.2222222222222222,
              "#7201a8"
             ],
             [
              0.3333333333333333,
              "#9c179e"
             ],
             [
              0.4444444444444444,
              "#bd3786"
             ],
             [
              0.5555555555555556,
              "#d8576b"
             ],
             [
              0.6666666666666666,
              "#ed7953"
             ],
             [
              0.7777777777777778,
              "#fb9f3a"
             ],
             [
              0.8888888888888888,
              "#fdca26"
             ],
             [
              1,
              "#f0f921"
             ]
            ],
            "type": "surface"
           }
          ],
          "table": [
           {
            "cells": {
             "fill": {
              "color": "#EBF0F8"
             },
             "line": {
              "color": "white"
             }
            },
            "header": {
             "fill": {
              "color": "#C8D4E3"
             },
             "line": {
              "color": "white"
             }
            },
            "type": "table"
           }
          ]
         },
         "layout": {
          "annotationdefaults": {
           "arrowcolor": "#2a3f5f",
           "arrowhead": 0,
           "arrowwidth": 1
          },
          "autotypenumbers": "strict",
          "coloraxis": {
           "colorbar": {
            "outlinewidth": 0,
            "ticks": ""
           }
          },
          "colorscale": {
           "diverging": [
            [
             0,
             "#8e0152"
            ],
            [
             0.1,
             "#c51b7d"
            ],
            [
             0.2,
             "#de77ae"
            ],
            [
             0.3,
             "#f1b6da"
            ],
            [
             0.4,
             "#fde0ef"
            ],
            [
             0.5,
             "#f7f7f7"
            ],
            [
             0.6,
             "#e6f5d0"
            ],
            [
             0.7,
             "#b8e186"
            ],
            [
             0.8,
             "#7fbc41"
            ],
            [
             0.9,
             "#4d9221"
            ],
            [
             1,
             "#276419"
            ]
           ],
           "sequential": [
            [
             0,
             "#0d0887"
            ],
            [
             0.1111111111111111,
             "#46039f"
            ],
            [
             0.2222222222222222,
             "#7201a8"
            ],
            [
             0.3333333333333333,
             "#9c179e"
            ],
            [
             0.4444444444444444,
             "#bd3786"
            ],
            [
             0.5555555555555556,
             "#d8576b"
            ],
            [
             0.6666666666666666,
             "#ed7953"
            ],
            [
             0.7777777777777778,
             "#fb9f3a"
            ],
            [
             0.8888888888888888,
             "#fdca26"
            ],
            [
             1,
             "#f0f921"
            ]
           ],
           "sequentialminus": [
            [
             0,
             "#0d0887"
            ],
            [
             0.1111111111111111,
             "#46039f"
            ],
            [
             0.2222222222222222,
             "#7201a8"
            ],
            [
             0.3333333333333333,
             "#9c179e"
            ],
            [
             0.4444444444444444,
             "#bd3786"
            ],
            [
             0.5555555555555556,
             "#d8576b"
            ],
            [
             0.6666666666666666,
             "#ed7953"
            ],
            [
             0.7777777777777778,
             "#fb9f3a"
            ],
            [
             0.8888888888888888,
             "#fdca26"
            ],
            [
             1,
             "#f0f921"
            ]
           ]
          },
          "colorway": [
           "#636efa",
           "#EF553B",
           "#00cc96",
           "#ab63fa",
           "#FFA15A",
           "#19d3f3",
           "#FF6692",
           "#B6E880",
           "#FF97FF",
           "#FECB52"
          ],
          "font": {
           "color": "#2a3f5f"
          },
          "geo": {
           "bgcolor": "white",
           "lakecolor": "white",
           "landcolor": "#E5ECF6",
           "showlakes": true,
           "showland": true,
           "subunitcolor": "white"
          },
          "hoverlabel": {
           "align": "left"
          },
          "hovermode": "closest",
          "mapbox": {
           "style": "light"
          },
          "paper_bgcolor": "white",
          "plot_bgcolor": "#E5ECF6",
          "polar": {
           "angularaxis": {
            "gridcolor": "white",
            "linecolor": "white",
            "ticks": ""
           },
           "bgcolor": "#E5ECF6",
           "radialaxis": {
            "gridcolor": "white",
            "linecolor": "white",
            "ticks": ""
           }
          },
          "scene": {
           "xaxis": {
            "backgroundcolor": "#E5ECF6",
            "gridcolor": "white",
            "gridwidth": 2,
            "linecolor": "white",
            "showbackground": true,
            "ticks": "",
            "zerolinecolor": "white"
           },
           "yaxis": {
            "backgroundcolor": "#E5ECF6",
            "gridcolor": "white",
            "gridwidth": 2,
            "linecolor": "white",
            "showbackground": true,
            "ticks": "",
            "zerolinecolor": "white"
           },
           "zaxis": {
            "backgroundcolor": "#E5ECF6",
            "gridcolor": "white",
            "gridwidth": 2,
            "linecolor": "white",
            "showbackground": true,
            "ticks": "",
            "zerolinecolor": "white"
           }
          },
          "shapedefaults": {
           "line": {
            "color": "#2a3f5f"
           }
          },
          "ternary": {
           "aaxis": {
            "gridcolor": "white",
            "linecolor": "white",
            "ticks": ""
           },
           "baxis": {
            "gridcolor": "white",
            "linecolor": "white",
            "ticks": ""
           },
           "bgcolor": "#E5ECF6",
           "caxis": {
            "gridcolor": "white",
            "linecolor": "white",
            "ticks": ""
           }
          },
          "title": {
           "x": 0.05
          },
          "xaxis": {
           "automargin": true,
           "gridcolor": "white",
           "linecolor": "white",
           "ticks": "",
           "title": {
            "standoff": 15
           },
           "zerolinecolor": "white",
           "zerolinewidth": 2
          },
          "yaxis": {
           "automargin": true,
           "gridcolor": "white",
           "linecolor": "white",
           "ticks": "",
           "title": {
            "standoff": 15
           },
           "zerolinecolor": "white",
           "zerolinewidth": 2
          }
         }
        }
       }
      }
     },
     "metadata": {},
     "output_type": "display_data"
    }
   ],
   "source": [
    "fig = treemap(M)\n",
    "fig"
   ]
  },
  {
   "cell_type": "code",
   "execution_count": 5,
   "metadata": {},
   "outputs": [
    {
     "ename": "UnboundedGP",
     "evalue": "Aircraft.Payload.x_cg has no lower bound.\n\nMission.Segment.AircraftPerformance.x_cg has no upper bound.\n\nAircraft.Fuselage.x_cg has no lower bound.\n\nAircraft.Wing.x_cg has no lower bound.\n\nAircraft.Wing.M has no lower bound.\n\nAircraft.UC.x_cg has no lower bound.\n\nAircraft.UC.M has no lower bound.\n\nAircraft.H_Tail.M has no lower bound.\n\nAircraft.V_Tail.M has no lower bound.\n\nAircraft.Payload.z_cg has no lower bound.\n\nMission.Segment.AircraftPerformance.z_cg has no upper bound.\n\nAircraft.Fuselage.z_cg has no lower bound.\n\nAircraft.Wing.z_cg has no lower bound.\n\nAircraft.UC.z_cg has no lower bound.\n\nMission.Segment1.Climb.CDi_climb has no lower bound, but would gain it from any of these sets: [(Mission.Segment1.Climb.AR, 'upper'), (Mission.Segment1.Climb.e_climb, 'upper')]\n\nMission.Segment1.Climb.AR has no upper bound, but would gain it from any of these sets: [(Mission.Segment1.Climb.e_climb, 'lower'), (Mission.Segment1.Climb.CDi_climb, 'lower')]\n\nMission.Segment1.Climb.AR has no lower bound, but would gain it from any of these sets: [(Mission.Segment1.Climb.e_climb, 'upper')]\n\nMission.Segment1.Climb.e_climb has no upper bound, but would gain it from any of these sets: [(Mission.Segment1.Climb.AR, 'lower'), (Mission.Segment1.Climb.CDi_climb, 'lower')]\n\nMission.Segment1.Climb.e_climb has no lower bound, but would gain it from any of these sets: [(Mission.Segment1.Climb.AR, 'upper')]\n\nMission.Segment1.Climb.TW has no upper bound.\n\nMission.Segment1.AircraftPerformance.x_cg has no upper bound.\n\nMission.Segment1.AircraftPerformance.z_cg has no upper bound.\n\nMission.Segment2.Cruise.AR has no upper bound.\n\nMission.Segment2.Cruise.e has no upper bound.\n\nMission.Segment2.Cruise.TW has no upper bound.\n\nMission.Segment2.Cruise.Cd0 has no lower bound.\n\nMission.Segment2.Cruise.LD has no upper bound, but would gain it from any of these sets: [(Aircraft.LD_max, 'upper')]\n\nAircraft.LD_max has no upper bound, but would gain it from any of these sets: [(Mission.Segment2.Cruise.LD, 'upper')] or [(Mission.Segment4.Cruise.LD, 'upper')]\n\nMission.Segment2.AircraftPerformance.x_cg has no upper bound.\n\nMission.Segment2.AircraftPerformance.z_cg has no upper bound.\n\nMission.Segment3.Climb_GoAround.CDi_climb has no lower bound, but would gain it from any of these sets: [(Mission.Segment3.Climb_GoAround.AR, 'upper'), (Mission.Segment3.Climb_GoAround.e_climb, 'upper')]\n\nMission.Segment3.Climb_GoAround.AR has no upper bound, but would gain it from any of these sets: [(Mission.Segment3.Climb_GoAround.e_climb, 'lower'), (Mission.Segment3.Climb_GoAround.CDi_climb, 'lower')]\n\nMission.Segment3.Climb_GoAround.AR has no lower bound, but would gain it from any of these sets: [(Mission.Segment3.Climb_GoAround.e_climb, 'upper')]\n\nMission.Segment3.Climb_GoAround.e_climb has no upper bound, but would gain it from any of these sets: [(Mission.Segment3.Climb_GoAround.CDi_climb, 'lower'), (Mission.Segment3.Climb_GoAround.AR, 'lower')]\n\nMission.Segment3.Climb_GoAround.e_climb has no lower bound, but would gain it from any of these sets: [(Mission.Segment3.Climb_GoAround.AR, 'upper')]\n\nMission.Segment3.Climb_GoAround.TW has no upper bound.\n\nMission.Segment3.AircraftPerformance.x_cg has no upper bound.\n\nMission.Segment3.AircraftPerformance.z_cg has no upper bound.\n\nMission.Segment4.Cruise.Cd0 has no lower bound.\n\nMission.Segment4.Cruise.TW has no upper bound.\n\nMission.Segment4.Cruise.AR has no upper bound.\n\nMission.Segment4.Cruise.e has no upper bound.\n\nMission.Segment4.Cruise.LD has no upper bound, but would gain it from any of these sets: [(Aircraft.LD_max, 'upper')]\n\nMission.Segment4.AircraftPerformance.x_cg has no upper bound.\n\nMission.Segment4.AircraftPerformance.z_cg has no upper bound.\n\nMission.Segment5.AircraftPerformance.x_cg has no upper bound.\n\nMission.Segment5.AircraftPerformance.z_cg has no upper bound.\n\nAircraft.Fuselage.Cabin.M has no lower bound.",
     "output_type": "error",
     "traceback": [
      "\u001b[0;31m---------------------------------------------------------------------------\u001b[0m",
      "\u001b[0;31mUnboundedGP\u001b[0m                               Traceback (most recent call last)",
      "\u001b[0;32m/tmp/ipykernel_261660/127135277.py\u001b[0m in \u001b[0;36m<module>\u001b[0;34m\u001b[0m\n\u001b[0;32m----> 1\u001b[0;31m \u001b[0msol\u001b[0m \u001b[0;34m=\u001b[0m \u001b[0mM\u001b[0m\u001b[0;34m.\u001b[0m\u001b[0msolve\u001b[0m\u001b[0;34m(\u001b[0m\u001b[0mverbosity\u001b[0m\u001b[0;34m=\u001b[0m\u001b[0;36m1\u001b[0m\u001b[0;34m)\u001b[0m\u001b[0;34m\u001b[0m\u001b[0;34m\u001b[0m\u001b[0m\n\u001b[0m\u001b[1;32m      2\u001b[0m \u001b[0mprint\u001b[0m\u001b[0;34m(\u001b[0m\u001b[0msol\u001b[0m\u001b[0;34m.\u001b[0m\u001b[0mtable\u001b[0m\u001b[0;34m(\u001b[0m\u001b[0;34m)\u001b[0m\u001b[0;34m)\u001b[0m\u001b[0;34m\u001b[0m\u001b[0;34m\u001b[0m\u001b[0m\n",
      "\u001b[0;32m~/anaconda3/envs/RocketPy/lib/python3.8/site-packages/gpkit/constraints/prog_factories.py\u001b[0m in \u001b[0;36msolvefn\u001b[0;34m(self, solver, verbosity, skipsweepfailures, **kwargs)\u001b[0m\n\u001b[1;32m    130\u001b[0m                       constants, sweep, linked, solver, verbosity, **kwargs)\n\u001b[1;32m    131\u001b[0m         \u001b[0;32melse\u001b[0m\u001b[0;34m:\u001b[0m\u001b[0;34m\u001b[0m\u001b[0;34m\u001b[0m\u001b[0m\n\u001b[0;32m--> 132\u001b[0;31m             \u001b[0mself\u001b[0m\u001b[0;34m.\u001b[0m\u001b[0mprogram\u001b[0m\u001b[0;34m,\u001b[0m \u001b[0mprogsolve\u001b[0m \u001b[0;34m=\u001b[0m \u001b[0mgenfunction\u001b[0m\u001b[0;34m(\u001b[0m\u001b[0mself\u001b[0m\u001b[0;34m,\u001b[0m \u001b[0;34m**\u001b[0m\u001b[0mkwargs\u001b[0m\u001b[0;34m)\u001b[0m\u001b[0;34m\u001b[0m\u001b[0;34m\u001b[0m\u001b[0m\n\u001b[0m\u001b[1;32m    133\u001b[0m             \u001b[0mresult\u001b[0m \u001b[0;34m=\u001b[0m \u001b[0mprogsolve\u001b[0m\u001b[0;34m(\u001b[0m\u001b[0msolver\u001b[0m\u001b[0;34m,\u001b[0m \u001b[0mverbosity\u001b[0m\u001b[0;34m=\u001b[0m\u001b[0mverbosity\u001b[0m\u001b[0;34m,\u001b[0m \u001b[0;34m**\u001b[0m\u001b[0mkwargs\u001b[0m\u001b[0;34m)\u001b[0m\u001b[0;34m\u001b[0m\u001b[0;34m\u001b[0m\u001b[0m\n\u001b[1;32m    134\u001b[0m             \u001b[0;32mif\u001b[0m \u001b[0mkwargs\u001b[0m\u001b[0;34m.\u001b[0m\u001b[0mget\u001b[0m\u001b[0;34m(\u001b[0m\u001b[0;34m\"process_result\"\u001b[0m\u001b[0;34m,\u001b[0m \u001b[0;32mTrue\u001b[0m\u001b[0;34m)\u001b[0m\u001b[0;34m:\u001b[0m\u001b[0;34m\u001b[0m\u001b[0;34m\u001b[0m\u001b[0m\n",
      "\u001b[0;32m~/anaconda3/envs/RocketPy/lib/python3.8/site-packages/gpkit/constraints/prog_factories.py\u001b[0m in \u001b[0;36mprogramfn\u001b[0;34m(self, constants, **initargs)\u001b[0m\n\u001b[1;32m     86\u001b[0m             \u001b[0;32mif\u001b[0m \u001b[0mlinked\u001b[0m\u001b[0;34m:\u001b[0m\u001b[0;34m\u001b[0m\u001b[0;34m\u001b[0m\u001b[0m\n\u001b[1;32m     87\u001b[0m                 \u001b[0mevaluate_linked\u001b[0m\u001b[0;34m(\u001b[0m\u001b[0mconstants\u001b[0m\u001b[0;34m,\u001b[0m \u001b[0mlinked\u001b[0m\u001b[0;34m)\u001b[0m\u001b[0;34m\u001b[0m\u001b[0;34m\u001b[0m\u001b[0m\n\u001b[0;32m---> 88\u001b[0;31m         \u001b[0mprog\u001b[0m \u001b[0;34m=\u001b[0m \u001b[0mprogram\u001b[0m\u001b[0;34m(\u001b[0m\u001b[0mself\u001b[0m\u001b[0;34m.\u001b[0m\u001b[0mcost\u001b[0m\u001b[0;34m,\u001b[0m \u001b[0mself\u001b[0m\u001b[0;34m,\u001b[0m \u001b[0mconstants\u001b[0m\u001b[0;34m,\u001b[0m \u001b[0;34m**\u001b[0m\u001b[0minitargs\u001b[0m\u001b[0;34m)\u001b[0m\u001b[0;34m\u001b[0m\u001b[0;34m\u001b[0m\u001b[0m\n\u001b[0m\u001b[1;32m     89\u001b[0m         \u001b[0mprog\u001b[0m\u001b[0;34m.\u001b[0m\u001b[0mmodel\u001b[0m \u001b[0;34m=\u001b[0m \u001b[0mself\u001b[0m  \u001b[0;31m# NOTE SIDE EFFECTS\u001b[0m\u001b[0;34m\u001b[0m\u001b[0;34m\u001b[0m\u001b[0m\n\u001b[1;32m     90\u001b[0m         \u001b[0;32mif\u001b[0m \u001b[0mreturn_attr\u001b[0m\u001b[0;34m:\u001b[0m\u001b[0;34m\u001b[0m\u001b[0;34m\u001b[0m\u001b[0m\n",
      "\u001b[0;32m~/anaconda3/envs/RocketPy/lib/python3.8/site-packages/gpkit/constraints/gp.py\u001b[0m in \u001b[0;36m__init__\u001b[0;34m(self, cost, constraints, substitutions, checkbounds, **_)\u001b[0m\n\u001b[1;32m     92\u001b[0m         \u001b[0mself\u001b[0m\u001b[0;34m.\u001b[0m\u001b[0mgen\u001b[0m\u001b[0;34m(\u001b[0m\u001b[0;34m)\u001b[0m  \u001b[0;31m# Generate various maps into the posy- and monomials\u001b[0m\u001b[0;34m\u001b[0m\u001b[0;34m\u001b[0m\u001b[0m\n\u001b[1;32m     93\u001b[0m         \u001b[0;32mif\u001b[0m \u001b[0mcheckbounds\u001b[0m\u001b[0;34m:\u001b[0m\u001b[0;34m\u001b[0m\u001b[0;34m\u001b[0m\u001b[0m\n\u001b[0;32m---> 94\u001b[0;31m             \u001b[0mself\u001b[0m\u001b[0;34m.\u001b[0m\u001b[0mcheck_bounds\u001b[0m\u001b[0;34m(\u001b[0m\u001b[0merr_on_missing_bounds\u001b[0m\u001b[0;34m=\u001b[0m\u001b[0;32mTrue\u001b[0m\u001b[0;34m)\u001b[0m\u001b[0;34m\u001b[0m\u001b[0;34m\u001b[0m\u001b[0m\n\u001b[0m\u001b[1;32m     95\u001b[0m \u001b[0;34m\u001b[0m\u001b[0m\n\u001b[1;32m     96\u001b[0m     \u001b[0;32mdef\u001b[0m \u001b[0mcheck_bounds\u001b[0m\u001b[0;34m(\u001b[0m\u001b[0mself\u001b[0m\u001b[0;34m,\u001b[0m \u001b[0;34m*\u001b[0m\u001b[0;34m,\u001b[0m \u001b[0merr_on_missing_bounds\u001b[0m\u001b[0;34m=\u001b[0m\u001b[0;32mFalse\u001b[0m\u001b[0;34m)\u001b[0m\u001b[0;34m:\u001b[0m\u001b[0;34m\u001b[0m\u001b[0;34m\u001b[0m\u001b[0m\n",
      "\u001b[0;32m~/anaconda3/envs/RocketPy/lib/python3.8/site-packages/gpkit/constraints/gp.py\u001b[0m in \u001b[0;36mcheck_bounds\u001b[0;34m(self, err_on_missing_bounds)\u001b[0m\n\u001b[1;32m    116\u001b[0m         \u001b[0mfulfill_meq_bounds\u001b[0m\u001b[0;34m(\u001b[0m\u001b[0mmissingbounds\u001b[0m\u001b[0;34m,\u001b[0m \u001b[0mmeq_bounds\u001b[0m\u001b[0;34m)\u001b[0m\u001b[0;34m\u001b[0m\u001b[0;34m\u001b[0m\u001b[0m\n\u001b[1;32m    117\u001b[0m         \u001b[0;32mif\u001b[0m \u001b[0mmissingbounds\u001b[0m \u001b[0;32mand\u001b[0m \u001b[0merr_on_missing_bounds\u001b[0m\u001b[0;34m:\u001b[0m\u001b[0;34m\u001b[0m\u001b[0;34m\u001b[0m\u001b[0m\n\u001b[0;32m--> 118\u001b[0;31m             raise UnboundedGP(\n\u001b[0m\u001b[1;32m    119\u001b[0m                 \"\\n\\n\".join(\"%s has no %s bound%s\" % (v, b, x)\n\u001b[1;32m    120\u001b[0m                             for (v, b), x in missingbounds.items()))\n",
      "\u001b[0;31mUnboundedGP\u001b[0m: Aircraft.Payload.x_cg has no lower bound.\n\nMission.Segment.AircraftPerformance.x_cg has no upper bound.\n\nAircraft.Fuselage.x_cg has no lower bound.\n\nAircraft.Wing.x_cg has no lower bound.\n\nAircraft.Wing.M has no lower bound.\n\nAircraft.UC.x_cg has no lower bound.\n\nAircraft.UC.M has no lower bound.\n\nAircraft.H_Tail.M has no lower bound.\n\nAircraft.V_Tail.M has no lower bound.\n\nAircraft.Payload.z_cg has no lower bound.\n\nMission.Segment.AircraftPerformance.z_cg has no upper bound.\n\nAircraft.Fuselage.z_cg has no lower bound.\n\nAircraft.Wing.z_cg has no lower bound.\n\nAircraft.UC.z_cg has no lower bound.\n\nMission.Segment1.Climb.CDi_climb has no lower bound, but would gain it from any of these sets: [(Mission.Segment1.Climb.AR, 'upper'), (Mission.Segment1.Climb.e_climb, 'upper')]\n\nMission.Segment1.Climb.AR has no upper bound, but would gain it from any of these sets: [(Mission.Segment1.Climb.e_climb, 'lower'), (Mission.Segment1.Climb.CDi_climb, 'lower')]\n\nMission.Segment1.Climb.AR has no lower bound, but would gain it from any of these sets: [(Mission.Segment1.Climb.e_climb, 'upper')]\n\nMission.Segment1.Climb.e_climb has no upper bound, but would gain it from any of these sets: [(Mission.Segment1.Climb.AR, 'lower'), (Mission.Segment1.Climb.CDi_climb, 'lower')]\n\nMission.Segment1.Climb.e_climb has no lower bound, but would gain it from any of these sets: [(Mission.Segment1.Climb.AR, 'upper')]\n\nMission.Segment1.Climb.TW has no upper bound.\n\nMission.Segment1.AircraftPerformance.x_cg has no upper bound.\n\nMission.Segment1.AircraftPerformance.z_cg has no upper bound.\n\nMission.Segment2.Cruise.AR has no upper bound.\n\nMission.Segment2.Cruise.e has no upper bound.\n\nMission.Segment2.Cruise.TW has no upper bound.\n\nMission.Segment2.Cruise.Cd0 has no lower bound.\n\nMission.Segment2.Cruise.LD has no upper bound, but would gain it from any of these sets: [(Aircraft.LD_max, 'upper')]\n\nAircraft.LD_max has no upper bound, but would gain it from any of these sets: [(Mission.Segment2.Cruise.LD, 'upper')] or [(Mission.Segment4.Cruise.LD, 'upper')]\n\nMission.Segment2.AircraftPerformance.x_cg has no upper bound.\n\nMission.Segment2.AircraftPerformance.z_cg has no upper bound.\n\nMission.Segment3.Climb_GoAround.CDi_climb has no lower bound, but would gain it from any of these sets: [(Mission.Segment3.Climb_GoAround.AR, 'upper'), (Mission.Segment3.Climb_GoAround.e_climb, 'upper')]\n\nMission.Segment3.Climb_GoAround.AR has no upper bound, but would gain it from any of these sets: [(Mission.Segment3.Climb_GoAround.e_climb, 'lower'), (Mission.Segment3.Climb_GoAround.CDi_climb, 'lower')]\n\nMission.Segment3.Climb_GoAround.AR has no lower bound, but would gain it from any of these sets: [(Mission.Segment3.Climb_GoAround.e_climb, 'upper')]\n\nMission.Segment3.Climb_GoAround.e_climb has no upper bound, but would gain it from any of these sets: [(Mission.Segment3.Climb_GoAround.CDi_climb, 'lower'), (Mission.Segment3.Climb_GoAround.AR, 'lower')]\n\nMission.Segment3.Climb_GoAround.e_climb has no lower bound, but would gain it from any of these sets: [(Mission.Segment3.Climb_GoAround.AR, 'upper')]\n\nMission.Segment3.Climb_GoAround.TW has no upper bound.\n\nMission.Segment3.AircraftPerformance.x_cg has no upper bound.\n\nMission.Segment3.AircraftPerformance.z_cg has no upper bound.\n\nMission.Segment4.Cruise.Cd0 has no lower bound.\n\nMission.Segment4.Cruise.TW has no upper bound.\n\nMission.Segment4.Cruise.AR has no upper bound.\n\nMission.Segment4.Cruise.e has no upper bound.\n\nMission.Segment4.Cruise.LD has no upper bound, but would gain it from any of these sets: [(Aircraft.LD_max, 'upper')]\n\nMission.Segment4.AircraftPerformance.x_cg has no upper bound.\n\nMission.Segment4.AircraftPerformance.z_cg has no upper bound.\n\nMission.Segment5.AircraftPerformance.x_cg has no upper bound.\n\nMission.Segment5.AircraftPerformance.z_cg has no upper bound.\n\nAircraft.Fuselage.Cabin.M has no lower bound."
     ]
    }
   ],
   "source": [
    "sol = M.solve(verbosity=1)\n",
    "print(sol.table())"
   ]
  },
  {
   "cell_type": "code",
   "execution_count": null,
   "metadata": {},
   "outputs": [],
   "source": [
    "from gpkit.interactive.references import referencesplot\n",
    "referencesplot(M, openimmediately=True)"
   ]
  },
  {
   "cell_type": "code",
   "execution_count": null,
   "metadata": {},
   "outputs": [],
   "source": [
    "Sankey(sol, M)"
   ]
  },
  {
   "cell_type": "code",
   "execution_count": null,
   "metadata": {},
   "outputs": [],
   "source": []
  },
  {
   "cell_type": "code",
   "execution_count": null,
   "metadata": {},
   "outputs": [],
   "source": [
    "# from functools import reduce\n",
    "\n",
    "# ln_breguet = 0.181818181818\n",
    "\n",
    "# 1/1+reduce(lambda x,y: x+y, [ln_breguet**i/np.math.factorial(i) for i in range(1, 5)])"
   ]
  }
 ],
 "metadata": {
  "interpreter": {
   "hash": "c0fc9c7c1bb62fdc79ff189ccb2c2bfee35b493781111f864e72b574bd55d0d1"
  },
  "kernelspec": {
   "display_name": "Python 3 (ipykernel)",
   "language": "python",
   "name": "python3"
  },
  "language_info": {
   "codemirror_mode": {
    "name": "ipython",
    "version": 3
   },
   "file_extension": ".py",
   "mimetype": "text/x-python",
   "name": "python",
   "nbconvert_exporter": "python",
   "pygments_lexer": "ipython3",
   "version": "3.8.10"
  }
 },
 "nbformat": 4,
 "nbformat_minor": 2
}
