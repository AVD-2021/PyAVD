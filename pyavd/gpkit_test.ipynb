{
 "cells": [
  {
   "cell_type": "markdown",
   "metadata": {},
   "source": [
    "# PyAVD - Quick Solver"
   ]
  },
  {
   "cell_type": "code",
   "execution_count": 1,
   "metadata": {},
   "outputs": [],
   "source": [
    "from gpkit import Model, ureg\n",
    "from gpkit.interactive.sankey import Sankey\n",
    "from gpkit.constraints.bounded import Bounded\n",
    "from gpkit.interactive.plotting import treemap\n",
    "from Models import *\n",
    "# %matplotlib inline"
   ]
  },
  {
   "cell_type": "code",
   "execution_count": 2,
   "metadata": {},
   "outputs": [],
   "source": [
    "# with gpkit.SignomialsEnabled():\n",
    "\n",
    "#     AC = Aircraft()\n",
    "#     # print(AC)\n",
    "\n",
    "#     MISSION = Mission(AC)\n",
    "#     # print(MISSION)\n",
    "\n",
    "#     M = Model(AC.M_0 * AC.T0_W0, [Bounded(MISSION), Bounded(AC)])\n",
    "#     print(M)\n",
    "\n",
    "#     print(M.variables_byname('AR'))\n",
    "\n",
    "#     sol = M.localsolve(verbosity=1)\n",
    "#     print(sol.table())\n",
    "\n",
    "#     print(M.program.results)"
   ]
  },
  {
   "cell_type": "code",
   "execution_count": 3,
   "metadata": {},
   "outputs": [
    {
     "name": "stdout",
     "output_type": "stream",
     "text": [
      "\n",
      "Cost Function\n",
      "-------------\n",
      " M_fuel\n",
      "\n",
      "Constraints\n",
      "-----------\n",
      " Mission\n",
      "  \"Top-level constraints\":\n",
      "    M[0] ≥ M_fuel + Aircraft.Payload.M + Aircraft.Port_Engine.M + Aircraft.Starboard_Engine.M\n",
      "    M[1] ≤ M[0]\n",
      "    M[2] ≤ M[1]\n",
      "    M[3] ≤ M[2]\n",
      "    M[4] ≤ M[3]\n",
      "    M[5] ≤ M[4]\n",
      "    M[6] ≤ M[5]\n",
      "    M[6] ≥ Aircraft.Payload.M + Aircraft.Port_Engine.M + Aircraft.Starboard_Engine.M\n",
      "    M[6] ≥ (Aircraft.Payload.M + Aircraft.Port_Engine.M + Aircraft.Starboard_Engine.M)·1.06\n",
      "  Takeoff\n",
      "   \"Takeoff Parameter\":\n",
      "     TOP = Mission.Takeoff.FL/Mission.Takeoff.k\n",
      "   \"Lift Coeffcient | Takeoff\":\n",
      "     CL_max_TO = 1.92\n",
      "   \"Thrust to Weight constraint\":\n",
      "     T0_W0 ≥ W0_S/(CL_max_TO·Mission.Takeoff.g·TOP/1.21)\n",
      "   \"Fuel Fraction | Takeoff\":\n",
      "     M[1]/M[0] = 0.97\n",
      "   \"Boundaries\":\n",
      "     \"Minimum Wing Loading\":\n",
      "       W0_S ≥ 0.1\n",
      "     \"Maximum Thrust to Weight\":\n",
      "       T0_W0 ≤ 1\n",
      "\n",
      "  Climb\n",
      "   \"Initial CL|Climb\":\n",
      "     Mission.Climb.CL = 1.92\n",
      "   \"Induced Drag Coefficient | Climb\":\n",
      "     Mission.Climb.CDi_climb = Mission.Climb.CL²/(23.6·Mission.Climb.e_climb)\n",
      "   \"Thrust to Weight constraint\":\n",
      "     T0_W0 ≥ (Mission.Climb.Cd0_climb + Mission.Climb.CDi_climb)/Mission.Climb.CL + 0.001\n",
      "   \"Fuel Fraction | Climb\":\n",
      "     M[2]/M[1] = 0.985\n",
      "   \"Boundaries\":\n",
      "     Mission.Climb.Cd0_climb ≥ 1e-06\n",
      "     T0_W0 ≤ 1\n",
      "\n",
      "  Cruise\n",
      "   \"Thrust Lapse Troposphere\":\n",
      "     Mission.Cruise.beta = Mission.Cruise.sigma^0.7\n",
      "   \"Thrust to Weight Constraint | Cruise\":\n",
      "     T0_W0 ≥ 0.955/Mission.Cruise.beta·(1/Mission.Cruise.V_inf·Mission.Cruise.climb_rate + 0.5·Mission.Cruise.rho·Mission.Cruise.V_inf²·Cd0/(0.955·W0_S) + 0.955·W0_S/(0.5·Mission.Cruise.rho·Mission.Cruise.V_inf²·π·7.5·0.9))\n",
      "   \"Optimum LD\":\n",
      "     Mission.Cruise.LD = 0.866·LD_max\n",
      "   \"Fuel Fraction | Cruise\":\n",
      "     M[2]/M[3] ≥ 1 + (Mission.Cruise.R·Aircraft.Starboard_Engine.sfc_cruise/(Mission.Cruise.V_inf·Mission.Cruise.LD))^1 + (Mission.Cruise.R·Aircraft.Starboard_Engine.sfc_cruise/(Mission.Cruise.V_inf·Mission.Cruise.LD))²/2 + (Mission.Cruise.R·Aircraft.Starboard_Engine.sfc_cruise/(Mission.Cruise.V_inf·Mission.Cruise.LD))³/6 + (Mission.Cruise.R·Aircraft.Starboard_Engine.sfc_cruise/(Mission.Cruise.V_inf·Mission.Cruise.LD))⁴/24 + (Mission.Cruise.R·Aircraft.Starboard_Engine.sfc_cruise/(Mission.Cruise.V_inf·Mission.Cruise.LD))⁵/120 + (Mission.Cruise.R·Aircraft.Starboard_Engine.sfc_cruise/(Mission.Cruise.V_inf·Mission.Cruise.LD))⁶/720 + (Mission.Cruise.R·Aircraft.Starboard_Engine.sfc_cruise/(Mission.Cruise.V_inf·Mission.Cruise.LD))⁷/5.04e+03 + (Mission.Cruise.R·Aircraft.Starboard_Engine.sfc_cruise/(Mission.Cruise.V_inf·Mission.Cruise.LD))⁸/4.03e+04 + (Mission.Cruise.R·Aircraft.Starboard_Engine.sfc_cruise/(Mission.Cruise.V_inf·Mission.Cruise.LD))⁹/3.63e+05\n",
      "\n",
      "  Climb_GoAround\n",
      "   \"Go-around CL|CLimb\":\n",
      "     Mission.Climb_GoAround.CL = 2.1\n",
      "   \"Induced Drag Coefficient | Climb\":\n",
      "     Mission.Climb_GoAround.CDi_climb = Mission.Climb_GoAround.CL²/(23.6·Mission.Climb_GoAround.e_climb)\n",
      "   \"Thrust to Weight constraint\":\n",
      "     T0_W0 ≥ (Mission.Climb_GoAround.Cd0_climb + Mission.Climb_GoAround.CDi_climb)/Mission.Climb_GoAround.CL + 0.001\n",
      "   \"Fuel Fraction | Climb\":\n",
      "     M[4]/M[3] = 0.985\n",
      "   \"Boundaries\":\n",
      "     Mission.Climb_GoAround.Cd0_climb ≥ 1e-06\n",
      "     T0_W0 ≤ 1\n",
      "\n",
      "  Cruise1\n",
      "   \"Thrust Lapse Troposphere\":\n",
      "     Mission.Cruise1.beta = Mission.Cruise1.sigma^0.7\n",
      "   \"Thrust to Weight Constraint | Cruise\":\n",
      "     T0_W0 ≥ 0.955/Mission.Cruise1.beta·(1/Mission.Cruise1.V_inf·Mission.Cruise1.climb_rate + 0.5·Mission.Cruise1.rho·Mission.Cruise1.V_inf²·Cd0/(0.955·W0_S) + 0.955·W0_S/(0.5·Mission.Cruise1.rho·Mission.Cruise1.V_inf²·π·7.5·0.9))\n",
      "   \"Optimum LD\":\n",
      "     Mission.Cruise1.LD = 0.866·LD_max\n",
      "   \"Fuel Fraction | Cruise\":\n",
      "     M[4]/M[5] ≥ 1 + (Mission.Cruise1.R·Aircraft.Starboard_Engine.sfc_cruise/(Mission.Cruise1.V_inf·Mission.Cruise1.LD))^1 + (Mission.Cruise1.R·Aircraft.Starboard_Engine.sfc_cruise/(Mission.Cruise1.V_inf·Mission.Cruise1.LD))²/2 + (Mission.Cruise1.R·Aircraft.Starboard_Engine.sfc_cruise/(Mission.Cruise1.V_inf·Mission.Cruise1.LD))³/6 + (Mission.Cruise1.R·Aircraft.Starboard_Engine.sfc_cruise/(Mission.Cruise1.V_inf·Mission.Cruise1.LD))⁴/24 + (Mission.Cruise1.R·Aircraft.Starboard_Engine.sfc_cruise/(Mission.Cruise1.V_inf·Mission.Cruise1.LD))⁵/120 + (Mission.Cruise1.R·Aircraft.Starboard_Engine.sfc_cruise/(Mission.Cruise1.V_inf·Mission.Cruise1.LD))⁶/720 + (Mission.Cruise1.R·Aircraft.Starboard_Engine.sfc_cruise/(Mission.Cruise1.V_inf·Mission.Cruise1.LD))⁷/5.04e+03 + (Mission.Cruise1.R·Aircraft.Starboard_Engine.sfc_cruise/(Mission.Cruise1.V_inf·Mission.Cruise1.LD))⁸/4.03e+04 + (Mission.Cruise1.R·Aircraft.Starboard_Engine.sfc_cruise/(Mission.Cruise1.V_inf·Mission.Cruise1.LD))⁹/3.63e+05\n",
      "\n",
      "  Landing\n",
      "   \"Target Stall Speed\":\n",
      "     V_stall = (Mission.Landing.FL/Mission.Landing.k)^0.5\n",
      "   \"Max Wing Loading\":\n",
      "     W0_S ≤ 0.5·SL_density·V_stall²·2.1\n",
      "   \"Fuel Fraction | Cruise\":\n",
      "     M[6]/M[5] = 0.995\n",
      "\n",
      " Aircraft\n",
      "  \"LDmax ratio (approx)\":\n",
      "    LD_max = K_LD·(7.5/Sw_Sref)^0.5\n",
      "  \"Boundary Constraints\":\n",
      "    \"Minimum Fuel Mass\":\n",
      "      M_fuel ≥ 10\n",
      "      M_fuel ≤ 1e+05\n",
      "    \"Minimum Cd0\":\n",
      "      Cd0 ≥ 1e-06\n",
      "  Payload\n",
      "   \"Passengers + Crew Mass\":\n",
      "     M_pax = m_pax·6\n",
      "   \"Luggage Mass\":\n",
      "     M_luggage = m_luggage·4\n",
      "   \"Total Payload\":\n",
      "     Aircraft.Payload.M ≥ M_pax + M_luggage\n",
      "\n",
      "  Starboard_Engine\n",
      "   (no constraints)\n",
      "\n",
      "  Port_Engine\n",
      "   (no constraints)\n"
     ]
    }
   ],
   "source": [
    "\n",
    "AC = Aircraft()\n",
    "# print(AC)\n",
    "\n",
    "MISSION = Mission(AC)\n",
    "# print(MISSION)\n",
    "\n",
    "# M = Model(AC.M_0 * AC.T0_W0, [Bounded(MISSION), Bounded(AC)])\n",
    "# M = Model(AC.T0_W0 * AC.M_0, [MISSION, AC])\n",
    "M = Model(AC.M_fuel, [MISSION, AC])\n",
    "print(M)\n"
   ]
  },
  {
   "cell_type": "code",
   "execution_count": 4,
   "metadata": {},
   "outputs": [
    {
     "data": {
      "application/vnd.plotly.v1+json": {
       "config": {
        "plotlyServerURL": "https://plot.ly"
       },
       "data": [
        {
         "ids": [
          "Aircraft.Port_Engine",
          "Mission.Climb",
          "Mission.Cruise",
          "Aircraft.Payload",
          "Mission.Climb_GoAround",
          "Mission",
          "Aircraft.Starboard_Engine",
          "Aircraft",
          "Mission.Takeoff",
          "Mission.Landing",
          "Mission.Cruise1",
          "Model",
          ""
         ],
         "labels": [
          "Port_Engine",
          "Climb",
          "Cruise",
          "Payload",
          "Climb_GoAround",
          "Mission",
          "Starboard_Engine",
          "Aircraft",
          "Takeoff",
          "Landing",
          "Cruise1",
          "Model",
          ""
         ],
         "parents": [
          "Aircraft",
          "Mission",
          "Mission",
          "Aircraft",
          "Mission",
          "Model",
          "Aircraft",
          "Model",
          "Mission",
          "Mission",
          "Mission",
          "",
          "Model"
         ],
         "type": "treemap"
        }
       ],
       "layout": {
        "template": {
         "data": {
          "bar": [
           {
            "error_x": {
             "color": "#2a3f5f"
            },
            "error_y": {
             "color": "#2a3f5f"
            },
            "marker": {
             "line": {
              "color": "#E5ECF6",
              "width": 0.5
             },
             "pattern": {
              "fillmode": "overlay",
              "size": 10,
              "solidity": 0.2
             }
            },
            "type": "bar"
           }
          ],
          "barpolar": [
           {
            "marker": {
             "line": {
              "color": "#E5ECF6",
              "width": 0.5
             },
             "pattern": {
              "fillmode": "overlay",
              "size": 10,
              "solidity": 0.2
             }
            },
            "type": "barpolar"
           }
          ],
          "carpet": [
           {
            "aaxis": {
             "endlinecolor": "#2a3f5f",
             "gridcolor": "white",
             "linecolor": "white",
             "minorgridcolor": "white",
             "startlinecolor": "#2a3f5f"
            },
            "baxis": {
             "endlinecolor": "#2a3f5f",
             "gridcolor": "white",
             "linecolor": "white",
             "minorgridcolor": "white",
             "startlinecolor": "#2a3f5f"
            },
            "type": "carpet"
           }
          ],
          "choropleth": [
           {
            "colorbar": {
             "outlinewidth": 0,
             "ticks": ""
            },
            "type": "choropleth"
           }
          ],
          "contour": [
           {
            "colorbar": {
             "outlinewidth": 0,
             "ticks": ""
            },
            "colorscale": [
             [
              0,
              "#0d0887"
             ],
             [
              0.1111111111111111,
              "#46039f"
             ],
             [
              0.2222222222222222,
              "#7201a8"
             ],
             [
              0.3333333333333333,
              "#9c179e"
             ],
             [
              0.4444444444444444,
              "#bd3786"
             ],
             [
              0.5555555555555556,
              "#d8576b"
             ],
             [
              0.6666666666666666,
              "#ed7953"
             ],
             [
              0.7777777777777778,
              "#fb9f3a"
             ],
             [
              0.8888888888888888,
              "#fdca26"
             ],
             [
              1,
              "#f0f921"
             ]
            ],
            "type": "contour"
           }
          ],
          "contourcarpet": [
           {
            "colorbar": {
             "outlinewidth": 0,
             "ticks": ""
            },
            "type": "contourcarpet"
           }
          ],
          "heatmap": [
           {
            "colorbar": {
             "outlinewidth": 0,
             "ticks": ""
            },
            "colorscale": [
             [
              0,
              "#0d0887"
             ],
             [
              0.1111111111111111,
              "#46039f"
             ],
             [
              0.2222222222222222,
              "#7201a8"
             ],
             [
              0.3333333333333333,
              "#9c179e"
             ],
             [
              0.4444444444444444,
              "#bd3786"
             ],
             [
              0.5555555555555556,
              "#d8576b"
             ],
             [
              0.6666666666666666,
              "#ed7953"
             ],
             [
              0.7777777777777778,
              "#fb9f3a"
             ],
             [
              0.8888888888888888,
              "#fdca26"
             ],
             [
              1,
              "#f0f921"
             ]
            ],
            "type": "heatmap"
           }
          ],
          "heatmapgl": [
           {
            "colorbar": {
             "outlinewidth": 0,
             "ticks": ""
            },
            "colorscale": [
             [
              0,
              "#0d0887"
             ],
             [
              0.1111111111111111,
              "#46039f"
             ],
             [
              0.2222222222222222,
              "#7201a8"
             ],
             [
              0.3333333333333333,
              "#9c179e"
             ],
             [
              0.4444444444444444,
              "#bd3786"
             ],
             [
              0.5555555555555556,
              "#d8576b"
             ],
             [
              0.6666666666666666,
              "#ed7953"
             ],
             [
              0.7777777777777778,
              "#fb9f3a"
             ],
             [
              0.8888888888888888,
              "#fdca26"
             ],
             [
              1,
              "#f0f921"
             ]
            ],
            "type": "heatmapgl"
           }
          ],
          "histogram": [
           {
            "marker": {
             "pattern": {
              "fillmode": "overlay",
              "size": 10,
              "solidity": 0.2
             }
            },
            "type": "histogram"
           }
          ],
          "histogram2d": [
           {
            "colorbar": {
             "outlinewidth": 0,
             "ticks": ""
            },
            "colorscale": [
             [
              0,
              "#0d0887"
             ],
             [
              0.1111111111111111,
              "#46039f"
             ],
             [
              0.2222222222222222,
              "#7201a8"
             ],
             [
              0.3333333333333333,
              "#9c179e"
             ],
             [
              0.4444444444444444,
              "#bd3786"
             ],
             [
              0.5555555555555556,
              "#d8576b"
             ],
             [
              0.6666666666666666,
              "#ed7953"
             ],
             [
              0.7777777777777778,
              "#fb9f3a"
             ],
             [
              0.8888888888888888,
              "#fdca26"
             ],
             [
              1,
              "#f0f921"
             ]
            ],
            "type": "histogram2d"
           }
          ],
          "histogram2dcontour": [
           {
            "colorbar": {
             "outlinewidth": 0,
             "ticks": ""
            },
            "colorscale": [
             [
              0,
              "#0d0887"
             ],
             [
              0.1111111111111111,
              "#46039f"
             ],
             [
              0.2222222222222222,
              "#7201a8"
             ],
             [
              0.3333333333333333,
              "#9c179e"
             ],
             [
              0.4444444444444444,
              "#bd3786"
             ],
             [
              0.5555555555555556,
              "#d8576b"
             ],
             [
              0.6666666666666666,
              "#ed7953"
             ],
             [
              0.7777777777777778,
              "#fb9f3a"
             ],
             [
              0.8888888888888888,
              "#fdca26"
             ],
             [
              1,
              "#f0f921"
             ]
            ],
            "type": "histogram2dcontour"
           }
          ],
          "mesh3d": [
           {
            "colorbar": {
             "outlinewidth": 0,
             "ticks": ""
            },
            "type": "mesh3d"
           }
          ],
          "parcoords": [
           {
            "line": {
             "colorbar": {
              "outlinewidth": 0,
              "ticks": ""
             }
            },
            "type": "parcoords"
           }
          ],
          "pie": [
           {
            "automargin": true,
            "type": "pie"
           }
          ],
          "scatter": [
           {
            "marker": {
             "colorbar": {
              "outlinewidth": 0,
              "ticks": ""
             }
            },
            "type": "scatter"
           }
          ],
          "scatter3d": [
           {
            "line": {
             "colorbar": {
              "outlinewidth": 0,
              "ticks": ""
             }
            },
            "marker": {
             "colorbar": {
              "outlinewidth": 0,
              "ticks": ""
             }
            },
            "type": "scatter3d"
           }
          ],
          "scattercarpet": [
           {
            "marker": {
             "colorbar": {
              "outlinewidth": 0,
              "ticks": ""
             }
            },
            "type": "scattercarpet"
           }
          ],
          "scattergeo": [
           {
            "marker": {
             "colorbar": {
              "outlinewidth": 0,
              "ticks": ""
             }
            },
            "type": "scattergeo"
           }
          ],
          "scattergl": [
           {
            "marker": {
             "colorbar": {
              "outlinewidth": 0,
              "ticks": ""
             }
            },
            "type": "scattergl"
           }
          ],
          "scattermapbox": [
           {
            "marker": {
             "colorbar": {
              "outlinewidth": 0,
              "ticks": ""
             }
            },
            "type": "scattermapbox"
           }
          ],
          "scatterpolar": [
           {
            "marker": {
             "colorbar": {
              "outlinewidth": 0,
              "ticks": ""
             }
            },
            "type": "scatterpolar"
           }
          ],
          "scatterpolargl": [
           {
            "marker": {
             "colorbar": {
              "outlinewidth": 0,
              "ticks": ""
             }
            },
            "type": "scatterpolargl"
           }
          ],
          "scatterternary": [
           {
            "marker": {
             "colorbar": {
              "outlinewidth": 0,
              "ticks": ""
             }
            },
            "type": "scatterternary"
           }
          ],
          "surface": [
           {
            "colorbar": {
             "outlinewidth": 0,
             "ticks": ""
            },
            "colorscale": [
             [
              0,
              "#0d0887"
             ],
             [
              0.1111111111111111,
              "#46039f"
             ],
             [
              0.2222222222222222,
              "#7201a8"
             ],
             [
              0.3333333333333333,
              "#9c179e"
             ],
             [
              0.4444444444444444,
              "#bd3786"
             ],
             [
              0.5555555555555556,
              "#d8576b"
             ],
             [
              0.6666666666666666,
              "#ed7953"
             ],
             [
              0.7777777777777778,
              "#fb9f3a"
             ],
             [
              0.8888888888888888,
              "#fdca26"
             ],
             [
              1,
              "#f0f921"
             ]
            ],
            "type": "surface"
           }
          ],
          "table": [
           {
            "cells": {
             "fill": {
              "color": "#EBF0F8"
             },
             "line": {
              "color": "white"
             }
            },
            "header": {
             "fill": {
              "color": "#C8D4E3"
             },
             "line": {
              "color": "white"
             }
            },
            "type": "table"
           }
          ]
         },
         "layout": {
          "annotationdefaults": {
           "arrowcolor": "#2a3f5f",
           "arrowhead": 0,
           "arrowwidth": 1
          },
          "autotypenumbers": "strict",
          "coloraxis": {
           "colorbar": {
            "outlinewidth": 0,
            "ticks": ""
           }
          },
          "colorscale": {
           "diverging": [
            [
             0,
             "#8e0152"
            ],
            [
             0.1,
             "#c51b7d"
            ],
            [
             0.2,
             "#de77ae"
            ],
            [
             0.3,
             "#f1b6da"
            ],
            [
             0.4,
             "#fde0ef"
            ],
            [
             0.5,
             "#f7f7f7"
            ],
            [
             0.6,
             "#e6f5d0"
            ],
            [
             0.7,
             "#b8e186"
            ],
            [
             0.8,
             "#7fbc41"
            ],
            [
             0.9,
             "#4d9221"
            ],
            [
             1,
             "#276419"
            ]
           ],
           "sequential": [
            [
             0,
             "#0d0887"
            ],
            [
             0.1111111111111111,
             "#46039f"
            ],
            [
             0.2222222222222222,
             "#7201a8"
            ],
            [
             0.3333333333333333,
             "#9c179e"
            ],
            [
             0.4444444444444444,
             "#bd3786"
            ],
            [
             0.5555555555555556,
             "#d8576b"
            ],
            [
             0.6666666666666666,
             "#ed7953"
            ],
            [
             0.7777777777777778,
             "#fb9f3a"
            ],
            [
             0.8888888888888888,
             "#fdca26"
            ],
            [
             1,
             "#f0f921"
            ]
           ],
           "sequentialminus": [
            [
             0,
             "#0d0887"
            ],
            [
             0.1111111111111111,
             "#46039f"
            ],
            [
             0.2222222222222222,
             "#7201a8"
            ],
            [
             0.3333333333333333,
             "#9c179e"
            ],
            [
             0.4444444444444444,
             "#bd3786"
            ],
            [
             0.5555555555555556,
             "#d8576b"
            ],
            [
             0.6666666666666666,
             "#ed7953"
            ],
            [
             0.7777777777777778,
             "#fb9f3a"
            ],
            [
             0.8888888888888888,
             "#fdca26"
            ],
            [
             1,
             "#f0f921"
            ]
           ]
          },
          "colorway": [
           "#636efa",
           "#EF553B",
           "#00cc96",
           "#ab63fa",
           "#FFA15A",
           "#19d3f3",
           "#FF6692",
           "#B6E880",
           "#FF97FF",
           "#FECB52"
          ],
          "font": {
           "color": "#2a3f5f"
          },
          "geo": {
           "bgcolor": "white",
           "lakecolor": "white",
           "landcolor": "#E5ECF6",
           "showlakes": true,
           "showland": true,
           "subunitcolor": "white"
          },
          "hoverlabel": {
           "align": "left"
          },
          "hovermode": "closest",
          "mapbox": {
           "style": "light"
          },
          "paper_bgcolor": "white",
          "plot_bgcolor": "#E5ECF6",
          "polar": {
           "angularaxis": {
            "gridcolor": "white",
            "linecolor": "white",
            "ticks": ""
           },
           "bgcolor": "#E5ECF6",
           "radialaxis": {
            "gridcolor": "white",
            "linecolor": "white",
            "ticks": ""
           }
          },
          "scene": {
           "xaxis": {
            "backgroundcolor": "#E5ECF6",
            "gridcolor": "white",
            "gridwidth": 2,
            "linecolor": "white",
            "showbackground": true,
            "ticks": "",
            "zerolinecolor": "white"
           },
           "yaxis": {
            "backgroundcolor": "#E5ECF6",
            "gridcolor": "white",
            "gridwidth": 2,
            "linecolor": "white",
            "showbackground": true,
            "ticks": "",
            "zerolinecolor": "white"
           },
           "zaxis": {
            "backgroundcolor": "#E5ECF6",
            "gridcolor": "white",
            "gridwidth": 2,
            "linecolor": "white",
            "showbackground": true,
            "ticks": "",
            "zerolinecolor": "white"
           }
          },
          "shapedefaults": {
           "line": {
            "color": "#2a3f5f"
           }
          },
          "ternary": {
           "aaxis": {
            "gridcolor": "white",
            "linecolor": "white",
            "ticks": ""
           },
           "baxis": {
            "gridcolor": "white",
            "linecolor": "white",
            "ticks": ""
           },
           "bgcolor": "#E5ECF6",
           "caxis": {
            "gridcolor": "white",
            "linecolor": "white",
            "ticks": ""
           }
          },
          "title": {
           "x": 0.05
          },
          "xaxis": {
           "automargin": true,
           "gridcolor": "white",
           "linecolor": "white",
           "ticks": "",
           "title": {
            "standoff": 15
           },
           "zerolinecolor": "white",
           "zerolinewidth": 2
          },
          "yaxis": {
           "automargin": true,
           "gridcolor": "white",
           "linecolor": "white",
           "ticks": "",
           "title": {
            "standoff": 15
           },
           "zerolinecolor": "white",
           "zerolinewidth": 2
          }
         }
        }
       }
      }
     },
     "metadata": {},
     "output_type": "display_data"
    }
   ],
   "source": [
    "fig = treemap(M)\n",
    "fig"
   ]
  },
  {
   "cell_type": "code",
   "execution_count": 5,
   "metadata": {},
   "outputs": [
    {
     "name": "stdout",
     "output_type": "stream",
     "text": [
      "Using solver 'cvxopt'\n",
      " for 28 free variables\n",
      "  in 64 posynomial inequalities.\n",
      "Solving took 0.244 seconds.\n",
      "\n",
      "Optimal Cost\n",
      "------------\n",
      " 10\n",
      "\n",
      "~~~~~~~~\n",
      "WARNINGS\n",
      "~~~~~~~~\n",
      "Unexpectedly Loose Constraints\n",
      "------------------------------\n",
      "               | Aircraft.Payload\n",
      "   1725 >= 708 : .M ≥ M_pax + M_luggage\n",
      "\n",
      "               | Mission.Cruise1\n",
      "2.538 >= 1.199 : M[4]/M[5] ≥ 1 + (.R·Aircraft.Starboard_Engine.sfc_cruise/(.V_inf·.LD))^1\n",
      "                   + (.R·Aircraft.Starboard_Engine.sfc_cruise/(.V_inf·.LD))²/2\n",
      "                   + (.R·Aircraft.Starboard_Engine.sfc_cruise/(.V_inf·.LD))³/6\n",
      "                   + (.R·Aircraft.Starboard_Engine.sfc_cruise/(.V_inf·.LD))⁴/24\n",
      "                   + (.R·Aircraft.Starboard_Engine.sfc_cruise/(.V_inf·.LD))⁵/120\n",
      "                   + (.R·Aircraft.Starboard_Engine.sfc_cruise/(.V_inf·.LD))⁶/720\n",
      "                   + (.R·Aircraft.Starboard_Engine.sfc_cruise/(.V_inf·.LD))⁷/5.04e+03\n",
      "                   + (.R·Aircraft.Starboard_Engine.sfc_cruise/(.V_inf·.LD))⁸/4.03e+04\n",
      "                   + (.R·Aircraft.Starboard_Engine.sfc_cruise/(.V_inf·.LD))⁹/3.63e+05\n",
      "\n",
      "               | Mission.Cruise\n",
      "2.538 >= 1.199 : M[2]/M[3] ≥ 1 + (.R·Aircraft.Starboard_Engine.sfc_cruise/(.V_inf·.LD))^1\n",
      "                   + (.R·Aircraft.Starboard_Engine.sfc_cruise/(.V_inf·.LD))²/2\n",
      "                   + (.R·Aircraft.Starboard_Engine.sfc_cruise/(.V_inf·.LD))³/6\n",
      "                   + (.R·Aircraft.Starboard_Engine.sfc_cruise/(.V_inf·.LD))⁴/24\n",
      "                   + (.R·Aircraft.Starboard_Engine.sfc_cruise/(.V_inf·.LD))⁵/120\n",
      "                   + (.R·Aircraft.Starboard_Engine.sfc_cruise/(.V_inf·.LD))⁶/720\n",
      "                   + (.R·Aircraft.Starboard_Engine.sfc_cruise/(.V_inf·.LD))⁷/5.04e+03\n",
      "                   + (.R·Aircraft.Starboard_Engine.sfc_cruise/(.V_inf·.LD))⁸/4.03e+04\n",
      "                   + (.R·Aircraft.Starboard_Engine.sfc_cruise/(.V_inf·.LD))⁹/3.63e+05\n",
      "~~~~~~~~\n",
      "\n",
      "Model Sensitivities (sorts models in sections below)\n",
      "-------------------\n",
      "  +1.0 : Aircraft\n",
      " <1e-4 : Mission\n",
      "       : Mission.Landing\n",
      " <1e-5 : Mission.Climb_GoAround\n",
      "       : Mission.Climb\n",
      "       : Mission.Takeoff\n",
      " <1e-7 : Mission.Cruise1\n",
      "       : Mission.Cruise\n",
      "       : Aircraft.Payload\n",
      " <1e-8 : Aircraft.Starboard_Engine\n",
      " <1e-9 : Aircraft.Port_Engine\n",
      "\n",
      "Free Variables\n",
      "--------------\n",
      "          | Aircraft\n",
      "      Cd0 : 1.937e-05             Zero-lift drag coefficient\n",
      "   LD_max : 17.33                 Maximum Lift to Drag ratio\n",
      "   M_fuel : 10            [kg]    Starting Fuel Mass\n",
      "    T0_W0 : 0.2225                Design Thrust to Weight ratio\n",
      "     W0_S : 38.22         [N/m²]  Design Wing Loading\n",
      "\n",
      "          | Mission\n",
      "        M : [ 7.42e+04    [kg]    Mass at end of each segment\n",
      "              7.2e+04\n",
      "              7.09e+04\n",
      "              2.79e+04\n",
      "              2.75e+04\n",
      "              1.08e+04\n",
      "              1.08e+04  ]\n",
      "\n",
      "          | Mission.Landing\n",
      "  V_stall : 45.04         [m/s]   Target Stall Speed | Landing\n",
      "\n",
      "          | Mission.Climb_GoAround\n",
      "CDi_climb : 0.197                 Induced Drag Coefficient | Climb\n",
      "       CL : 2.1                   Lift Coefficient | Climb\n",
      "Cd0_climb : 0.0001003             Variation in Cd0\n",
      "\n",
      "          | Mission.Climb\n",
      "CDi_climb : 0.1647                Induced Drag Coefficient | Climb\n",
      "       CL : 1.92                  Lift Coefficient | Climb\n",
      "Cd0_climb : 9.39e-05              Variation in Cd0\n",
      "\n",
      "          | Mission.Takeoff\n",
      "CL_max_TO : 1.92                  Maximum Lift Coefficient | Takeoff\n",
      "      TOP : 512.6         [kg/m²] Takeoff Parameter\n",
      "\n",
      "          | Mission.Cruise1\n",
      "       LD : 15.01                 Optimum Lift-Drag | Cruise\n",
      "     beta : 0.3747                Thrust Lapse\n",
      "\n",
      "          | Mission.Cruise\n",
      "       LD : 15.01                 Optimum Lift-Drag | Cruise\n",
      "     beta : 0.3747                Thrust Lapse\n",
      "\n",
      "          | Aircraft.Payload\n",
      "        M : 1725          [kg]    Total Payload mass\n",
      "M_luggage : 108           [kg]    Total Mass of luggage\n",
      "    M_pax : 600           [kg]    Total Mass of passengers + crew\n",
      "\n",
      "Fixed Variables\n",
      "---------------\n",
      "           | Aircraft\n",
      "      K_LD : 15.5             K_LD empirical coefficient | Civil Jets\n",
      "   Sw_Sref : 6                Wetted Area to Reference Area ratio\n",
      "         g : 9.81    [m/s²]   Gravitational Acceleration\n",
      "\n",
      "           | Mission.Landing\n",
      "        FL : 1200    [m]      Field Length | Landing\n",
      "SL_density : 1.225   [kg/m³]  Sea Level Density | Landing\n",
      "         k : 0.5136  [ft/kt²] Landing Empirical Constant\n",
      "\n",
      "           | Mission.Climb_GoAround\n",
      "   e_climb : 0.95             Variation in Oswald efficiency\n",
      "\n",
      "           | Mission.Climb\n",
      "   e_climb : 0.95             Variation in Oswald efficiency\n",
      "\n",
      "           | Mission.Takeoff\n",
      "        FL : 1200    [m]      Field Length\n",
      "         g : 9.81    [m/s²]   Gravitational Acceleration\n",
      "         k : 37.5    [ft³/lb] Some Random Constant\n",
      "\n",
      "           | Mission.Cruise1\n",
      "         R : 2700    [km]     Cruise Range\n",
      "     V_inf : 220     [m/s]    Cruising Velocity\n",
      "       alt : 4e+04   [ft]     Altitude\n",
      "       rho : 1.22    [kg/m³]  Density\n",
      "     sigma : 0.246            Aggregate fuel fraction\n",
      "\n",
      "           | Mission.Cruise\n",
      "         R : 2700    [km]     Cruise Range\n",
      "     V_inf : 220     [m/s]    Cruising Velocity\n",
      "       alt : 4e+04   [ft]     Altitude\n",
      "       rho : 1.22    [kg/m³]  Density\n",
      "     sigma : 0.246            Aggregate fuel fraction\n",
      "\n",
      "           | Aircraft.Payload\n",
      "         g : 9.81    [m/s²]   Gravitational Acceleration\n",
      " m_luggage : 27      [kg]     Assumed Luggage Weight\n",
      "     m_pax : 100     [kg]     Assumed Passenger Weight\n",
      "\n",
      "           | Aircraft.Starboard_Engine\n",
      "         M : 1500    [kg]     Mass\n",
      "sfc_cruise : 0.8     [1/hr]   Specific Fuel Consumption at Cruise\n",
      "sfc_loiter : 0.7     [1/hr]   Specific Fuel Consumption at Loiter\n",
      "\n",
      "           | Aircraft.Port_Engine\n",
      "         M : 1500    [kg]     Mass\n",
      "sfc_cruise : 0.8     [1/hr]   Specific Fuel Consumption at Cruise\n",
      "sfc_loiter : 0.7     [1/hr]   Specific Fuel Consumption at Loiter\n",
      "\n",
      "Most Sensitive Constraints\n",
      "--------------------------\n",
      "       | Aircraft\n",
      "    +1 : M_fuel ≥ 10\n",
      "\n"
     ]
    }
   ],
   "source": [
    "sol = M.solve(verbosity=1)\n",
    "print(sol.table())"
   ]
  },
  {
   "cell_type": "code",
   "execution_count": 6,
   "metadata": {},
   "outputs": [],
   "source": [
    "from gpkit.interactive.references import referencesplot\n",
    "referencesplot(M, openimmediately=False)"
   ]
  },
  {
   "cell_type": "code",
   "execution_count": 7,
   "metadata": {},
   "outputs": [
    {
     "data": {
      "text/plain": [
       "<gpkit.interactive.sankey.Sankey at 0x7f7ae416eca0>"
      ]
     },
     "execution_count": 7,
     "metadata": {},
     "output_type": "execute_result"
    }
   ],
   "source": [
    "Sankey(sol, M)"
   ]
  },
  {
   "cell_type": "code",
   "execution_count": null,
   "metadata": {},
   "outputs": [],
   "source": []
  },
  {
   "cell_type": "code",
   "execution_count": 8,
   "metadata": {},
   "outputs": [],
   "source": [
    "# from functools import reduce\n",
    "\n",
    "# ln_breguet = 0.181818181818\n",
    "\n",
    "# 1/1+reduce(lambda x,y: x+y, [ln_breguet**i/np.math.factorial(i) for i in range(1, 5)])"
   ]
  }
 ],
 "metadata": {
  "interpreter": {
   "hash": "c0fc9c7c1bb62fdc79ff189ccb2c2bfee35b493781111f864e72b574bd55d0d1"
  },
  "kernelspec": {
   "display_name": "Python 3 (ipykernel)",
   "language": "python",
   "name": "python3"
  },
  "language_info": {
   "codemirror_mode": {
    "name": "ipython",
    "version": 3
   },
   "file_extension": ".py",
   "mimetype": "text/x-python",
   "name": "python",
   "nbconvert_exporter": "python",
   "pygments_lexer": "ipython3",
   "version": "3.8.10"
  }
 },
 "nbformat": 4,
 "nbformat_minor": 2
}
