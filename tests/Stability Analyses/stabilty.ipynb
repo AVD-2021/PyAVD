{
 "cells": [
  {
   "cell_type": "code",
   "execution_count": 1,
   "metadata": {},
   "outputs": [
    {
     "name": "stdout",
     "output_type": "stream",
     "text": [
      "K_f: 1.6\n",
      "6.907818327606865 meter\n",
      "0.3212122008780681 dimensionless\n",
      "0.33121220087806813 dimensionless\n",
      "0.39167930209032614 dimensionless\n",
      "0.8972086840939311 / radian\n"
     ]
    }
   ],
   "source": [
    "import sympy as sym\n",
    "import numpy as np \n",
    "from gpkit import ureg as u\n",
    "\n",
    "from Stability import *\n",
    "\n",
    "\n",
    "l_h = 7.05 * u.m\n",
    "h_h = 4.9 * u.m\n",
    "aircraft_x_cg = 6.32 * u.m\n",
    "x_np = 0.0 * u.m\n",
    "wing_b = 13 * u.m\n",
    "wing_AR = 9\n",
    "wing_qc = 6.50 * u.m\n",
    "fuselage_length = 13.5 * u.m\n",
    "fuselage_width = 1.7 * u.m\n",
    "wing_c = 1.83 * u.m\n",
    "wing_taper = 0.36\n",
    "wing_S = 22.2 * u.m**2\n",
    "wing_sweep = 9.1 * u.deg\n",
    "wing_cl_alpha = 6.5* (1/u.rad)\n",
    "eta_h = 0.91\n",
    "S_h = 6.503 * u.m**2\n",
    "compressibility_correction = 1.31\n",
    "CL_alpha_h = 4.75 * 1/u.rad\n",
    "x_ac_h = 14 * u.m\n",
    "\n",
    "'''\n",
    "    aircraft_x_cg,\n",
    "    wing_qc,\n",
    "    x_aerocenter_tail,\n",
    "    l_h,\n",
    "    h_h,\n",
    "    wing_AR,\n",
    "    wing_taper,\n",
    "    wing_c,\n",
    "    wing_S,\n",
    "    wing_b,\n",
    "    wing_sweep,\n",
    "    wing_cl_alpha,\n",
    "    fuselage_length,\n",
    "    fuselage_width,\n",
    "    eta_h,\n",
    "    S_h,\n",
    "    CL_alpha_h,\n",
    "    compressibility_correction\n",
    "'''\n",
    "\n",
    "\n",
    "stab = Stability(\n",
    "    aircraft_x_cg,\n",
    "    wing_qc,\n",
    "    x_ac_h,\n",
    "    l_h,\n",
    "    h_h,\n",
    "    wing_AR,\n",
    "    wing_taper,\n",
    "    wing_c,\n",
    "    wing_S,\n",
    "    wing_b,\n",
    "    wing_sweep,\n",
    "    wing_cl_alpha,\n",
    "    fuselage_length,\n",
    "    fuselage_width,\n",
    "    eta_h,\n",
    "    S_h,\n",
    "    CL_alpha_h,\n",
    "    compressibility_correction\n",
    ")\n",
    "\n",
    "\n",
    "\n",
    "print(stab.x_np)\n",
    "print(stab.SM_Poff)\n",
    "print(stab.SM_Pon)\n",
    "print(stab.depsilon_dalpha)\n",
    "print(stab.dCM_dalpha)\n",
    "\n",
    "# cruise = []\n"
   ]
  }
 ],
 "metadata": {
  "interpreter": {
   "hash": "c0fc9c7c1bb62fdc79ff189ccb2c2bfee35b493781111f864e72b574bd55d0d1"
  },
  "kernelspec": {
   "display_name": "Python 3.8.10 64-bit ('RocketPy': conda)",
   "language": "python",
   "name": "python3"
  },
  "language_info": {
   "codemirror_mode": {
    "name": "ipython",
    "version": 3
   },
   "file_extension": ".py",
   "mimetype": "text/x-python",
   "name": "python",
   "nbconvert_exporter": "python",
   "pygments_lexer": "ipython3",
   "version": "3.8.10"
  },
  "orig_nbformat": 4
 },
 "nbformat": 4,
 "nbformat_minor": 2
}
