{
 "cells": [
  {
   "cell_type": "markdown",
   "id": "6e4a4909-6fd9-494c-8478-0ede8fc65e01",
   "metadata": {},
   "source": [
    "\n",
    "# Using GPKit\n"
   ]
  },
  {
   "cell_type": "markdown",
   "id": "96dc2d26-7a7c-4593-877f-00dc8eb23739",
   "metadata": {},
   "source": [
    "GPKit is a toolbox adding a layer of abstraction over Geometric Program solvers. This notebook is my first attempt messing around with it, and eventually I hope to use it within PyAVD and RocketPy."
   ]
  },
  {
   "cell_type": "markdown",
   "id": "1157d0d5-f113-4b97-b2db-e91f87103792",
   "metadata": {},
   "source": [
    "### Basic - Minimising $x$ with a [$x >= 1$] constraint"
   ]
  },
  {
   "cell_type": "code",
   "execution_count": 19,
   "id": "a4b6d910-833b-45b7-9ae6-b4f4538b678d",
   "metadata": {},
   "outputs": [],
   "source": [
    "from gpkit import Variable, Model\n",
    "import numpy as np\n",
    "\n",
    "# Free variable\n",
    "x = Variable(\"x\")\n",
    "\n",
    "# Constraint - list type of Boolean expressions\n",
    "constraints = [x >= 1.5]\n",
    "\n",
    "# Objective - solver attempts to minimize this variable\n",
    "objective = x ** 0.5\n",
    "\n",
    "m = Model(objective, constraints)"
   ]
  },
  {
   "cell_type": "markdown",
   "id": "3be398f2-a082-4da7-aa0f-7a12acfeabe8",
   "metadata": {},
   "source": [
    "Now solve-"
   ]
  },
  {
   "cell_type": "code",
   "execution_count": 20,
   "id": "bb286861-55e7-4fbd-ae61-394e6ad93703",
   "metadata": {},
   "outputs": [
    {
     "name": "stdout",
     "output_type": "stream",
     "text": [
      "Using solver 'cvxopt'\n",
      " for 1 free variables\n",
      "  in 2 posynomial inequalities.\n",
      "Solving took 0.015 seconds.\n"
     ]
    }
   ],
   "source": [
    "sol = m.solve()"
   ]
  },
  {
   "cell_type": "code",
   "execution_count": 21,
   "id": "c08667d0-5f5f-4df7-8c6a-ab962230aa2c",
   "metadata": {},
   "outputs": [
    {
     "name": "stdout",
     "output_type": "stream",
     "text": [
      "\n",
      "Optimal Cost\n",
      "------------\n",
      " 1.225\n",
      "\n",
      "Free Variables\n",
      "--------------\n",
      "x : 1.5\n",
      "\n",
      "Most Sensitive Constraints\n",
      "--------------------------\n",
      "  +0.5 : x ≥ 1.5\n",
      "\n"
     ]
    }
   ],
   "source": [
    "print(sol.table())"
   ]
  },
  {
   "cell_type": "markdown",
   "id": "3ee82880-cb50-443c-ab00-ad980b3a80cb",
   "metadata": {},
   "source": [
    "It worked!"
   ]
  },
  {
   "cell_type": "markdown",
   "id": "26e781ec-45c9-4efc-8c65-a67b3d87d0a9",
   "metadata": {},
   "source": [
    "### Maximising Box Volume"
   ]
  },
  {
   "cell_type": "code",
   "execution_count": 25,
   "id": "1d0813a5-2961-47d4-9aa6-40b7e626fd35",
   "metadata": {},
   "outputs": [
    {
     "name": "stdout",
     "output_type": "stream",
     "text": [
      "\n",
      "Optimal Cost\n",
      "------------\n",
      " 0.003674\n",
      "\n",
      "Free Variables\n",
      "--------------\n",
      "d : 8.17   [m] depth\n",
      "h : 8.163  [m] height\n",
      "w : 4.081  [m] width\n",
      "\n",
      "Fixed Variables\n",
      "---------------\n",
      "A_{floor} : 50   [m²] upper limit, floor area\n",
      " A_{wall} : 200  [m²] upper limit, wall area\n",
      "    alpha : 2         lower limit, wall aspect ratio\n",
      "     beta : 10        upper limit, wall aspect ratio\n",
      "    delta : 10        upper limit, floor aspect ratio\n",
      "    gamma : 2         lower limit, floor aspect ratio\n",
      "\n",
      "Variable Sensitivities\n",
      "----------------------\n",
      "A_{wall} : -1.5  upper limit, wall area\n",
      "   alpha : +0.5  lower limit, wall aspect ratio\n",
      "\n",
      "Most Sensitive Constraints\n",
      "--------------------------\n",
      "  +1.5 : A_{wall} ≥ 2·h·w + 2·h·d\n",
      "  +0.5 : alpha ≤ h/w\n",
      "\n"
     ]
    }
   ],
   "source": [
    "# Parameters\n",
    "alpha = Variable(\"alpha\", 2, \"-\", \"lower limit, wall aspect ratio\")\n",
    "beta = Variable(\"beta\", 10, \"-\", \"upper limit, wall aspect ratio\")\n",
    "gamma = Variable(\"gamma\", 2, \"-\", \"lower limit, floor aspect ratio\")\n",
    "delta = Variable(\"delta\", 10, \"-\", \"upper limit, floor aspect ratio\")\n",
    "A_wall = Variable(\"A_{wall}\", 200, \"m^2\", \"upper limit, wall area\")\n",
    "A_floor = Variable(\"A_{floor}\", 50, \"m^2\", \"upper limit, floor area\")\n",
    "\n",
    "# Decision variables\n",
    "h = Variable(\"h\", \"m\", \"height\")\n",
    "w = Variable(\"w\", \"m\", \"width\")\n",
    "d = Variable(\"d\", \"m\", \"depth\")\n",
    "\n",
    "# Constraints\n",
    "constraints = [A_wall >= 2*h*w + 2*h*d,\n",
    "               A_floor >= w*d,\n",
    "               h/w >= alpha,\n",
    "               h/w <= beta,\n",
    "               d/w >= gamma,\n",
    "               d/w <= delta]\n",
    "\n",
    "# Objective function\n",
    "V = h*w*d\n",
    "objective = 1/V  # To maximize V, we minimize its reciprocal\n",
    "\n",
    "# Formulate the Model\n",
    "m = Model(objective, constraints)\n",
    "\n",
    "# Solve the Model and print the results table\n",
    "print(m.solve(verbosity=0).table())"
   ]
  },
  {
   "cell_type": "code",
   "execution_count": null,
   "id": "157cb845-0b68-4945-bdbd-b9ff50cd51e7",
   "metadata": {},
   "outputs": [],
   "source": []
  }
 ],
 "metadata": {
  "kernelspec": {
   "display_name": "Python 3 (ipykernel)",
   "language": "python",
   "name": "python3"
  },
  "language_info": {
   "codemirror_mode": {
    "name": "ipython",
    "version": 3
   },
   "file_extension": ".py",
   "mimetype": "text/x-python",
   "name": "python",
   "nbconvert_exporter": "python",
   "pygments_lexer": "ipython3",
   "version": "3.8.10"
  }
 },
 "nbformat": 4,
 "nbformat_minor": 5
}
